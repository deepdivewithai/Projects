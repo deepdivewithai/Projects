{
  "cells": [
    {
      "cell_type": "markdown",
      "id": "4ace3d0b",
      "metadata": {
        "id": "4ace3d0b"
      },
      "source": [
        "# Sentiments Analysis"
      ]
    },
    {
      "cell_type": "markdown",
      "id": "12809c97",
      "metadata": {
        "id": "12809c97"
      },
      "source": [
        "### Introduction:\n",
        "\n",
        "***Hello, and welcome to my sentiment analysis project. As an aspiring data scientist interested in customer experience, I recognize the significance of examining customer sentiment towards products and services. In today's fiercely competitive market, customer satisfaction is crucial for a business's success, and analyzing customer reviews provides valuable insights into their sentiment. \n",
        "The results of this project have the potential to benefit businesses in various domains, including e-commerce, hospitality, and healthcare. By automating the process of analyzing customer sentiment, businesses can gain insights into customer needs and preferences, identify areas for improvement, and make informed decisions to enhance the customer experience. I am excited to share the findings of this project and contribute to the growing field of sentiment analysis. Let's get started!***\n"
      ]
    },
    {
      "cell_type": "markdown",
      "id": "05f48329",
      "metadata": {
        "id": "05f48329"
      },
      "source": [
        "### Problem Statement\n",
        "\n",
        "*The goal of my project is to develop a machine learning model that can automatically categorize customer reviews as positive or negative. I will be using six different machine learning algorithms, including Logistic Regression, Decision Tree (DT), Random Forest (RF), etc. By comparing the performance of these models, I can determine which algorithm works best for this task.*"
      ]
    },
    {
      "cell_type": "markdown",
      "id": "0dd1b311",
      "metadata": {
        "id": "0dd1b311"
      },
      "source": [
        "### Importing Necessary Libraries"
      ]
    },
    {
      "cell_type": "code",
      "execution_count": 1,
      "id": "ff127fe1",
      "metadata": {
        "colab": {
          "base_uri": "https://localhost:8080/"
        },
        "id": "ff127fe1",
        "outputId": "943c6b62-2b67-49f5-d50f-d4807aa0adf9"
      },
      "outputs": [
        {
          "output_type": "stream",
          "name": "stderr",
          "text": [
            "[nltk_data] Downloading package punkt to /root/nltk_data...\n",
            "[nltk_data]   Package punkt is already up-to-date!\n",
            "[nltk_data] Downloading package stopwords to /root/nltk_data...\n",
            "[nltk_data]   Package stopwords is already up-to-date!\n",
            "[nltk_data] Downloading package wordnet to /root/nltk_data...\n",
            "[nltk_data]   Package wordnet is already up-to-date!\n"
          ]
        },
        {
          "output_type": "execute_result",
          "data": {
            "text/plain": [
              "True"
            ]
          },
          "metadata": {},
          "execution_count": 1
        }
      ],
      "source": [
        "import pandas as pd \n",
        "import numpy as np\n",
        "import matplotlib.pyplot as plt\n",
        "import seaborn as sns\n",
        "\n",
        "import nltk\n",
        "from nltk.tokenize import word_tokenize\n",
        "from nltk.corpus import stopwords\n",
        "from nltk.stem import WordNetLemmatizer, PorterStemmer\n",
        "\n",
        "from sklearn.feature_extraction.text import CountVectorizer\n",
        "\n",
        "import warnings\n",
        "\n",
        "warnings.filterwarnings('ignore')\n",
        "nltk.download(['punkt','stopwords','wordnet'])"
      ]
    },
    {
      "cell_type": "markdown",
      "id": "268d33b0",
      "metadata": {
        "id": "268d33b0"
      },
      "source": [
        "### Dataset\n",
        "\n",
        "*The dataset I will be using contains customer reviews labeled as either positive or negative. I will be using the CountVectorizer feature extraction method to convert the text into numerical features that can be used as input to the models. The dataset will be split into training and testing sets, and I will evaluate the performance of each model using various metrics such as accuracy, precision, recall, and F1 score.*"
      ]
    },
    {
      "cell_type": "markdown",
      "id": "55f65ec2",
      "metadata": {
        "id": "55f65ec2"
      },
      "source": [
        "## Step 1: Data Preprocessing\n",
        "\n",
        "The first step is to preprocess the data. This includes handling missing values, encoding categorical variables, and scaling the data if necessary."
      ]
    },
    {
      "cell_type": "markdown",
      "id": "7d4cad2a",
      "metadata": {
        "id": "7d4cad2a"
      },
      "source": [
        "### Reading the Data"
      ]
    },
    {
      "cell_type": "code",
      "execution_count": 2,
      "id": "bc9e9ef9",
      "metadata": {
        "colab": {
          "base_uri": "https://localhost:8080/",
          "height": 423
        },
        "id": "bc9e9ef9",
        "outputId": "6712c270-ade1-44d5-dab7-ba2b4e1c2b5b"
      },
      "outputs": [
        {
          "output_type": "execute_result",
          "data": {
            "text/plain": [
              "                                                    text  label\n",
              "0      I grew up (b. 1965) watching and loving the Th...      0\n",
              "1      When I put this movie in my DVD player, and sa...      0\n",
              "2      Why do people who do not know what a particula...      0\n",
              "3      Even though I have great interest in Biblical ...      0\n",
              "4      Im a die hard Dads Army fan and nothing will e...      1\n",
              "...                                                  ...    ...\n",
              "39995  \"Western Union\" is something of a forgotten cl...      1\n",
              "39996  This movie is an incredible piece of work. It ...      1\n",
              "39997  My wife and I watched this movie because we pl...      0\n",
              "39998  When I first watched Flatliners, I was amazed....      1\n",
              "39999  Why would this film be so good, but only gross...      1\n",
              "\n",
              "[40000 rows x 2 columns]"
            ],
            "text/html": [
              "\n",
              "  <div id=\"df-6ecd3355-24a5-4e1f-983d-a6f496574778\">\n",
              "    <div class=\"colab-df-container\">\n",
              "      <div>\n",
              "<style scoped>\n",
              "    .dataframe tbody tr th:only-of-type {\n",
              "        vertical-align: middle;\n",
              "    }\n",
              "\n",
              "    .dataframe tbody tr th {\n",
              "        vertical-align: top;\n",
              "    }\n",
              "\n",
              "    .dataframe thead th {\n",
              "        text-align: right;\n",
              "    }\n",
              "</style>\n",
              "<table border=\"1\" class=\"dataframe\">\n",
              "  <thead>\n",
              "    <tr style=\"text-align: right;\">\n",
              "      <th></th>\n",
              "      <th>text</th>\n",
              "      <th>label</th>\n",
              "    </tr>\n",
              "  </thead>\n",
              "  <tbody>\n",
              "    <tr>\n",
              "      <th>0</th>\n",
              "      <td>I grew up (b. 1965) watching and loving the Th...</td>\n",
              "      <td>0</td>\n",
              "    </tr>\n",
              "    <tr>\n",
              "      <th>1</th>\n",
              "      <td>When I put this movie in my DVD player, and sa...</td>\n",
              "      <td>0</td>\n",
              "    </tr>\n",
              "    <tr>\n",
              "      <th>2</th>\n",
              "      <td>Why do people who do not know what a particula...</td>\n",
              "      <td>0</td>\n",
              "    </tr>\n",
              "    <tr>\n",
              "      <th>3</th>\n",
              "      <td>Even though I have great interest in Biblical ...</td>\n",
              "      <td>0</td>\n",
              "    </tr>\n",
              "    <tr>\n",
              "      <th>4</th>\n",
              "      <td>Im a die hard Dads Army fan and nothing will e...</td>\n",
              "      <td>1</td>\n",
              "    </tr>\n",
              "    <tr>\n",
              "      <th>...</th>\n",
              "      <td>...</td>\n",
              "      <td>...</td>\n",
              "    </tr>\n",
              "    <tr>\n",
              "      <th>39995</th>\n",
              "      <td>\"Western Union\" is something of a forgotten cl...</td>\n",
              "      <td>1</td>\n",
              "    </tr>\n",
              "    <tr>\n",
              "      <th>39996</th>\n",
              "      <td>This movie is an incredible piece of work. It ...</td>\n",
              "      <td>1</td>\n",
              "    </tr>\n",
              "    <tr>\n",
              "      <th>39997</th>\n",
              "      <td>My wife and I watched this movie because we pl...</td>\n",
              "      <td>0</td>\n",
              "    </tr>\n",
              "    <tr>\n",
              "      <th>39998</th>\n",
              "      <td>When I first watched Flatliners, I was amazed....</td>\n",
              "      <td>1</td>\n",
              "    </tr>\n",
              "    <tr>\n",
              "      <th>39999</th>\n",
              "      <td>Why would this film be so good, but only gross...</td>\n",
              "      <td>1</td>\n",
              "    </tr>\n",
              "  </tbody>\n",
              "</table>\n",
              "<p>40000 rows × 2 columns</p>\n",
              "</div>\n",
              "      <button class=\"colab-df-convert\" onclick=\"convertToInteractive('df-6ecd3355-24a5-4e1f-983d-a6f496574778')\"\n",
              "              title=\"Convert this dataframe to an interactive table.\"\n",
              "              style=\"display:none;\">\n",
              "        \n",
              "  <svg xmlns=\"http://www.w3.org/2000/svg\" height=\"24px\"viewBox=\"0 0 24 24\"\n",
              "       width=\"24px\">\n",
              "    <path d=\"M0 0h24v24H0V0z\" fill=\"none\"/>\n",
              "    <path d=\"M18.56 5.44l.94 2.06.94-2.06 2.06-.94-2.06-.94-.94-2.06-.94 2.06-2.06.94zm-11 1L8.5 8.5l.94-2.06 2.06-.94-2.06-.94L8.5 2.5l-.94 2.06-2.06.94zm10 10l.94 2.06.94-2.06 2.06-.94-2.06-.94-.94-2.06-.94 2.06-2.06.94z\"/><path d=\"M17.41 7.96l-1.37-1.37c-.4-.4-.92-.59-1.43-.59-.52 0-1.04.2-1.43.59L10.3 9.45l-7.72 7.72c-.78.78-.78 2.05 0 2.83L4 21.41c.39.39.9.59 1.41.59.51 0 1.02-.2 1.41-.59l7.78-7.78 2.81-2.81c.8-.78.8-2.07 0-2.86zM5.41 20L4 18.59l7.72-7.72 1.47 1.35L5.41 20z\"/>\n",
              "  </svg>\n",
              "      </button>\n",
              "      \n",
              "  <style>\n",
              "    .colab-df-container {\n",
              "      display:flex;\n",
              "      flex-wrap:wrap;\n",
              "      gap: 12px;\n",
              "    }\n",
              "\n",
              "    .colab-df-convert {\n",
              "      background-color: #E8F0FE;\n",
              "      border: none;\n",
              "      border-radius: 50%;\n",
              "      cursor: pointer;\n",
              "      display: none;\n",
              "      fill: #1967D2;\n",
              "      height: 32px;\n",
              "      padding: 0 0 0 0;\n",
              "      width: 32px;\n",
              "    }\n",
              "\n",
              "    .colab-df-convert:hover {\n",
              "      background-color: #E2EBFA;\n",
              "      box-shadow: 0px 1px 2px rgba(60, 64, 67, 0.3), 0px 1px 3px 1px rgba(60, 64, 67, 0.15);\n",
              "      fill: #174EA6;\n",
              "    }\n",
              "\n",
              "    [theme=dark] .colab-df-convert {\n",
              "      background-color: #3B4455;\n",
              "      fill: #D2E3FC;\n",
              "    }\n",
              "\n",
              "    [theme=dark] .colab-df-convert:hover {\n",
              "      background-color: #434B5C;\n",
              "      box-shadow: 0px 1px 3px 1px rgba(0, 0, 0, 0.15);\n",
              "      filter: drop-shadow(0px 1px 2px rgba(0, 0, 0, 0.3));\n",
              "      fill: #FFFFFF;\n",
              "    }\n",
              "  </style>\n",
              "\n",
              "      <script>\n",
              "        const buttonEl =\n",
              "          document.querySelector('#df-6ecd3355-24a5-4e1f-983d-a6f496574778 button.colab-df-convert');\n",
              "        buttonEl.style.display =\n",
              "          google.colab.kernel.accessAllowed ? 'block' : 'none';\n",
              "\n",
              "        async function convertToInteractive(key) {\n",
              "          const element = document.querySelector('#df-6ecd3355-24a5-4e1f-983d-a6f496574778');\n",
              "          const dataTable =\n",
              "            await google.colab.kernel.invokeFunction('convertToInteractive',\n",
              "                                                     [key], {});\n",
              "          if (!dataTable) return;\n",
              "\n",
              "          const docLinkHtml = 'Like what you see? Visit the ' +\n",
              "            '<a target=\"_blank\" href=https://colab.research.google.com/notebooks/data_table.ipynb>data table notebook</a>'\n",
              "            + ' to learn more about interactive tables.';\n",
              "          element.innerHTML = '';\n",
              "          dataTable['output_type'] = 'display_data';\n",
              "          await google.colab.output.renderOutput(dataTable, element);\n",
              "          const docLink = document.createElement('div');\n",
              "          docLink.innerHTML = docLinkHtml;\n",
              "          element.appendChild(docLink);\n",
              "        }\n",
              "      </script>\n",
              "    </div>\n",
              "  </div>\n",
              "  "
            ]
          },
          "metadata": {},
          "execution_count": 2
        }
      ],
      "source": [
        "train_set = pd.read_csv('/content/drive/MyDrive/Colab Notebooks/# Akashik Records/Train.csv')\n",
        "train_set"
      ]
    },
    {
      "cell_type": "code",
      "source": [
        "from google.colab import drive\n",
        "drive.mount('/content/drive')"
      ],
      "metadata": {
        "colab": {
          "base_uri": "https://localhost:8080/"
        },
        "id": "EGqximIOsCyO",
        "outputId": "454b36d9-03f1-418a-f3f3-58aebace599a"
      },
      "id": "EGqximIOsCyO",
      "execution_count": 3,
      "outputs": [
        {
          "output_type": "stream",
          "name": "stdout",
          "text": [
            "Drive already mounted at /content/drive; to attempt to forcibly remount, call drive.mount(\"/content/drive\", force_remount=True).\n"
          ]
        }
      ]
    },
    {
      "cell_type": "code",
      "execution_count": 4,
      "id": "9a20a0c9",
      "metadata": {
        "colab": {
          "base_uri": "https://localhost:8080/"
        },
        "id": "9a20a0c9",
        "outputId": "fe6e1776-5ebd-4cd3-ecd4-4b64664194d1"
      },
      "outputs": [
        {
          "output_type": "stream",
          "name": "stdout",
          "text": [
            "<class 'pandas.core.frame.DataFrame'>\n",
            "RangeIndex: 40000 entries, 0 to 39999\n",
            "Data columns (total 2 columns):\n",
            " #   Column  Non-Null Count  Dtype \n",
            "---  ------  --------------  ----- \n",
            " 0   text    40000 non-null  object\n",
            " 1   label   40000 non-null  int64 \n",
            "dtypes: int64(1), object(1)\n",
            "memory usage: 625.1+ KB\n"
          ]
        }
      ],
      "source": [
        "train_set.info()"
      ]
    },
    {
      "cell_type": "markdown",
      "id": "021587df",
      "metadata": {
        "id": "021587df"
      },
      "source": [
        "1. <b>\"text\"</b>: This column contains textual data in the form of strings, likely representing movie reviews or comments. There are 40,000 entries in this column and all are non-null.\n",
        "\n",
        "1. <b>\"label\"</b>: This column contains numerical values of either 0 or 1, likely representing the sentiment of each review or comment. A label of 0 may indicate a negative sentiment, while a label of 1 may indicate a positive sentiment. There are 40,000 entries in this column and all are non-null.\n",
        "\n",
        "As a training dataset, all 40,000 entries in both columns are non-null."
      ]
    },
    {
      "cell_type": "code",
      "execution_count": 5,
      "id": "03ddbd02",
      "metadata": {
        "colab": {
          "base_uri": "https://localhost:8080/",
          "height": 423
        },
        "id": "03ddbd02",
        "outputId": "addffecd-c4c7-42b7-e950-99cafc00b84b"
      },
      "outputs": [
        {
          "output_type": "execute_result",
          "data": {
            "text/plain": [
              "                                                   text  label\n",
              "0     I always wrote this series off as being a comp...      0\n",
              "1     1st watched 12/7/2002 - 3 out of 10(Dir-Steve ...      0\n",
              "2     This movie was so poorly written and directed ...      0\n",
              "3     The most interesting thing about Miryang (Secr...      1\n",
              "4     when i first read about \"berlin am meer\" i did...      0\n",
              "...                                                 ...    ...\n",
              "4995  This is the kind of picture John Lassiter woul...      1\n",
              "4996  A MUST SEE! I saw WHIPPED at a press screening...      1\n",
              "4997  NBC should be ashamed. I wouldn't allow my chi...      0\n",
              "4998  This movie is a clumsy mishmash of various gho...      0\n",
              "4999  Formula movie about the illegitimate son of a ...      0\n",
              "\n",
              "[5000 rows x 2 columns]"
            ],
            "text/html": [
              "\n",
              "  <div id=\"df-812bf0da-0182-4b83-b813-28c4c55f4ee2\">\n",
              "    <div class=\"colab-df-container\">\n",
              "      <div>\n",
              "<style scoped>\n",
              "    .dataframe tbody tr th:only-of-type {\n",
              "        vertical-align: middle;\n",
              "    }\n",
              "\n",
              "    .dataframe tbody tr th {\n",
              "        vertical-align: top;\n",
              "    }\n",
              "\n",
              "    .dataframe thead th {\n",
              "        text-align: right;\n",
              "    }\n",
              "</style>\n",
              "<table border=\"1\" class=\"dataframe\">\n",
              "  <thead>\n",
              "    <tr style=\"text-align: right;\">\n",
              "      <th></th>\n",
              "      <th>text</th>\n",
              "      <th>label</th>\n",
              "    </tr>\n",
              "  </thead>\n",
              "  <tbody>\n",
              "    <tr>\n",
              "      <th>0</th>\n",
              "      <td>I always wrote this series off as being a comp...</td>\n",
              "      <td>0</td>\n",
              "    </tr>\n",
              "    <tr>\n",
              "      <th>1</th>\n",
              "      <td>1st watched 12/7/2002 - 3 out of 10(Dir-Steve ...</td>\n",
              "      <td>0</td>\n",
              "    </tr>\n",
              "    <tr>\n",
              "      <th>2</th>\n",
              "      <td>This movie was so poorly written and directed ...</td>\n",
              "      <td>0</td>\n",
              "    </tr>\n",
              "    <tr>\n",
              "      <th>3</th>\n",
              "      <td>The most interesting thing about Miryang (Secr...</td>\n",
              "      <td>1</td>\n",
              "    </tr>\n",
              "    <tr>\n",
              "      <th>4</th>\n",
              "      <td>when i first read about \"berlin am meer\" i did...</td>\n",
              "      <td>0</td>\n",
              "    </tr>\n",
              "    <tr>\n",
              "      <th>...</th>\n",
              "      <td>...</td>\n",
              "      <td>...</td>\n",
              "    </tr>\n",
              "    <tr>\n",
              "      <th>4995</th>\n",
              "      <td>This is the kind of picture John Lassiter woul...</td>\n",
              "      <td>1</td>\n",
              "    </tr>\n",
              "    <tr>\n",
              "      <th>4996</th>\n",
              "      <td>A MUST SEE! I saw WHIPPED at a press screening...</td>\n",
              "      <td>1</td>\n",
              "    </tr>\n",
              "    <tr>\n",
              "      <th>4997</th>\n",
              "      <td>NBC should be ashamed. I wouldn't allow my chi...</td>\n",
              "      <td>0</td>\n",
              "    </tr>\n",
              "    <tr>\n",
              "      <th>4998</th>\n",
              "      <td>This movie is a clumsy mishmash of various gho...</td>\n",
              "      <td>0</td>\n",
              "    </tr>\n",
              "    <tr>\n",
              "      <th>4999</th>\n",
              "      <td>Formula movie about the illegitimate son of a ...</td>\n",
              "      <td>0</td>\n",
              "    </tr>\n",
              "  </tbody>\n",
              "</table>\n",
              "<p>5000 rows × 2 columns</p>\n",
              "</div>\n",
              "      <button class=\"colab-df-convert\" onclick=\"convertToInteractive('df-812bf0da-0182-4b83-b813-28c4c55f4ee2')\"\n",
              "              title=\"Convert this dataframe to an interactive table.\"\n",
              "              style=\"display:none;\">\n",
              "        \n",
              "  <svg xmlns=\"http://www.w3.org/2000/svg\" height=\"24px\"viewBox=\"0 0 24 24\"\n",
              "       width=\"24px\">\n",
              "    <path d=\"M0 0h24v24H0V0z\" fill=\"none\"/>\n",
              "    <path d=\"M18.56 5.44l.94 2.06.94-2.06 2.06-.94-2.06-.94-.94-2.06-.94 2.06-2.06.94zm-11 1L8.5 8.5l.94-2.06 2.06-.94-2.06-.94L8.5 2.5l-.94 2.06-2.06.94zm10 10l.94 2.06.94-2.06 2.06-.94-2.06-.94-.94-2.06-.94 2.06-2.06.94z\"/><path d=\"M17.41 7.96l-1.37-1.37c-.4-.4-.92-.59-1.43-.59-.52 0-1.04.2-1.43.59L10.3 9.45l-7.72 7.72c-.78.78-.78 2.05 0 2.83L4 21.41c.39.39.9.59 1.41.59.51 0 1.02-.2 1.41-.59l7.78-7.78 2.81-2.81c.8-.78.8-2.07 0-2.86zM5.41 20L4 18.59l7.72-7.72 1.47 1.35L5.41 20z\"/>\n",
              "  </svg>\n",
              "      </button>\n",
              "      \n",
              "  <style>\n",
              "    .colab-df-container {\n",
              "      display:flex;\n",
              "      flex-wrap:wrap;\n",
              "      gap: 12px;\n",
              "    }\n",
              "\n",
              "    .colab-df-convert {\n",
              "      background-color: #E8F0FE;\n",
              "      border: none;\n",
              "      border-radius: 50%;\n",
              "      cursor: pointer;\n",
              "      display: none;\n",
              "      fill: #1967D2;\n",
              "      height: 32px;\n",
              "      padding: 0 0 0 0;\n",
              "      width: 32px;\n",
              "    }\n",
              "\n",
              "    .colab-df-convert:hover {\n",
              "      background-color: #E2EBFA;\n",
              "      box-shadow: 0px 1px 2px rgba(60, 64, 67, 0.3), 0px 1px 3px 1px rgba(60, 64, 67, 0.15);\n",
              "      fill: #174EA6;\n",
              "    }\n",
              "\n",
              "    [theme=dark] .colab-df-convert {\n",
              "      background-color: #3B4455;\n",
              "      fill: #D2E3FC;\n",
              "    }\n",
              "\n",
              "    [theme=dark] .colab-df-convert:hover {\n",
              "      background-color: #434B5C;\n",
              "      box-shadow: 0px 1px 3px 1px rgba(0, 0, 0, 0.15);\n",
              "      filter: drop-shadow(0px 1px 2px rgba(0, 0, 0, 0.3));\n",
              "      fill: #FFFFFF;\n",
              "    }\n",
              "  </style>\n",
              "\n",
              "      <script>\n",
              "        const buttonEl =\n",
              "          document.querySelector('#df-812bf0da-0182-4b83-b813-28c4c55f4ee2 button.colab-df-convert');\n",
              "        buttonEl.style.display =\n",
              "          google.colab.kernel.accessAllowed ? 'block' : 'none';\n",
              "\n",
              "        async function convertToInteractive(key) {\n",
              "          const element = document.querySelector('#df-812bf0da-0182-4b83-b813-28c4c55f4ee2');\n",
              "          const dataTable =\n",
              "            await google.colab.kernel.invokeFunction('convertToInteractive',\n",
              "                                                     [key], {});\n",
              "          if (!dataTable) return;\n",
              "\n",
              "          const docLinkHtml = 'Like what you see? Visit the ' +\n",
              "            '<a target=\"_blank\" href=https://colab.research.google.com/notebooks/data_table.ipynb>data table notebook</a>'\n",
              "            + ' to learn more about interactive tables.';\n",
              "          element.innerHTML = '';\n",
              "          dataTable['output_type'] = 'display_data';\n",
              "          await google.colab.output.renderOutput(dataTable, element);\n",
              "          const docLink = document.createElement('div');\n",
              "          docLink.innerHTML = docLinkHtml;\n",
              "          element.appendChild(docLink);\n",
              "        }\n",
              "      </script>\n",
              "    </div>\n",
              "  </div>\n",
              "  "
            ]
          },
          "metadata": {},
          "execution_count": 5
        }
      ],
      "source": [
        "test_set = pd.read_csv('/content/drive/MyDrive/Colab Notebooks/# Akashik Records/Test.csv')\n",
        "test_set"
      ]
    },
    {
      "cell_type": "code",
      "execution_count": 6,
      "id": "a37053db",
      "metadata": {
        "colab": {
          "base_uri": "https://localhost:8080/"
        },
        "id": "a37053db",
        "outputId": "6d89a92c-7178-4879-f9b6-37501d68026c"
      },
      "outputs": [
        {
          "output_type": "stream",
          "name": "stdout",
          "text": [
            "<class 'pandas.core.frame.DataFrame'>\n",
            "RangeIndex: 5000 entries, 0 to 4999\n",
            "Data columns (total 2 columns):\n",
            " #   Column  Non-Null Count  Dtype \n",
            "---  ------  --------------  ----- \n",
            " 0   text    5000 non-null   object\n",
            " 1   label   5000 non-null   int64 \n",
            "dtypes: int64(1), object(1)\n",
            "memory usage: 78.2+ KB\n"
          ]
        }
      ],
      "source": [
        "test_set.info()"
      ]
    },
    {
      "cell_type": "markdown",
      "id": "b1d3070a",
      "metadata": {
        "id": "b1d3070a"
      },
      "source": [
        "1. <b>\"text\"</b>: This column contains textual data in the form of strings, likely representing movie reviews or comments. There are 5,000 entries in this column and all are non-null.\n",
        "\n",
        "1. <b>\"label\"</b>: This column contains numerical values of either 0 or 1, likely representing the sentiment of each review or comment. A label of 0 may indicate a negative sentiment, while a label of 1 may indicate a positive sentiment. There are 5,000 entries in this column and all are non-null.\n",
        "\n",
        "As a testing dataset, all 5,000 entries in both columns are non-null."
      ]
    },
    {
      "cell_type": "code",
      "execution_count": 7,
      "id": "6ea8e6e6",
      "metadata": {
        "colab": {
          "base_uri": "https://localhost:8080/",
          "height": 206
        },
        "id": "6ea8e6e6",
        "outputId": "ebc59f1f-fd4e-446e-f9c2-06d12c130ed6"
      },
      "outputs": [
        {
          "output_type": "execute_result",
          "data": {
            "text/plain": [
              "                                                text  label\n",
              "0  It's been about 14 years since Sharon Stone aw...      0\n",
              "1  someone needed to make a car payment... this i...      0\n",
              "2  The Guidelines state that a comment must conta...      0\n",
              "3  This movie is a muddled mish-mash of clichés f...      0\n",
              "4  Before Stan Laurel became the smaller half of ...      0"
            ],
            "text/html": [
              "\n",
              "  <div id=\"df-c035107c-6357-4a9c-87cd-9d97626178f1\">\n",
              "    <div class=\"colab-df-container\">\n",
              "      <div>\n",
              "<style scoped>\n",
              "    .dataframe tbody tr th:only-of-type {\n",
              "        vertical-align: middle;\n",
              "    }\n",
              "\n",
              "    .dataframe tbody tr th {\n",
              "        vertical-align: top;\n",
              "    }\n",
              "\n",
              "    .dataframe thead th {\n",
              "        text-align: right;\n",
              "    }\n",
              "</style>\n",
              "<table border=\"1\" class=\"dataframe\">\n",
              "  <thead>\n",
              "    <tr style=\"text-align: right;\">\n",
              "      <th></th>\n",
              "      <th>text</th>\n",
              "      <th>label</th>\n",
              "    </tr>\n",
              "  </thead>\n",
              "  <tbody>\n",
              "    <tr>\n",
              "      <th>0</th>\n",
              "      <td>It's been about 14 years since Sharon Stone aw...</td>\n",
              "      <td>0</td>\n",
              "    </tr>\n",
              "    <tr>\n",
              "      <th>1</th>\n",
              "      <td>someone needed to make a car payment... this i...</td>\n",
              "      <td>0</td>\n",
              "    </tr>\n",
              "    <tr>\n",
              "      <th>2</th>\n",
              "      <td>The Guidelines state that a comment must conta...</td>\n",
              "      <td>0</td>\n",
              "    </tr>\n",
              "    <tr>\n",
              "      <th>3</th>\n",
              "      <td>This movie is a muddled mish-mash of clichés f...</td>\n",
              "      <td>0</td>\n",
              "    </tr>\n",
              "    <tr>\n",
              "      <th>4</th>\n",
              "      <td>Before Stan Laurel became the smaller half of ...</td>\n",
              "      <td>0</td>\n",
              "    </tr>\n",
              "  </tbody>\n",
              "</table>\n",
              "</div>\n",
              "      <button class=\"colab-df-convert\" onclick=\"convertToInteractive('df-c035107c-6357-4a9c-87cd-9d97626178f1')\"\n",
              "              title=\"Convert this dataframe to an interactive table.\"\n",
              "              style=\"display:none;\">\n",
              "        \n",
              "  <svg xmlns=\"http://www.w3.org/2000/svg\" height=\"24px\"viewBox=\"0 0 24 24\"\n",
              "       width=\"24px\">\n",
              "    <path d=\"M0 0h24v24H0V0z\" fill=\"none\"/>\n",
              "    <path d=\"M18.56 5.44l.94 2.06.94-2.06 2.06-.94-2.06-.94-.94-2.06-.94 2.06-2.06.94zm-11 1L8.5 8.5l.94-2.06 2.06-.94-2.06-.94L8.5 2.5l-.94 2.06-2.06.94zm10 10l.94 2.06.94-2.06 2.06-.94-2.06-.94-.94-2.06-.94 2.06-2.06.94z\"/><path d=\"M17.41 7.96l-1.37-1.37c-.4-.4-.92-.59-1.43-.59-.52 0-1.04.2-1.43.59L10.3 9.45l-7.72 7.72c-.78.78-.78 2.05 0 2.83L4 21.41c.39.39.9.59 1.41.59.51 0 1.02-.2 1.41-.59l7.78-7.78 2.81-2.81c.8-.78.8-2.07 0-2.86zM5.41 20L4 18.59l7.72-7.72 1.47 1.35L5.41 20z\"/>\n",
              "  </svg>\n",
              "      </button>\n",
              "      \n",
              "  <style>\n",
              "    .colab-df-container {\n",
              "      display:flex;\n",
              "      flex-wrap:wrap;\n",
              "      gap: 12px;\n",
              "    }\n",
              "\n",
              "    .colab-df-convert {\n",
              "      background-color: #E8F0FE;\n",
              "      border: none;\n",
              "      border-radius: 50%;\n",
              "      cursor: pointer;\n",
              "      display: none;\n",
              "      fill: #1967D2;\n",
              "      height: 32px;\n",
              "      padding: 0 0 0 0;\n",
              "      width: 32px;\n",
              "    }\n",
              "\n",
              "    .colab-df-convert:hover {\n",
              "      background-color: #E2EBFA;\n",
              "      box-shadow: 0px 1px 2px rgba(60, 64, 67, 0.3), 0px 1px 3px 1px rgba(60, 64, 67, 0.15);\n",
              "      fill: #174EA6;\n",
              "    }\n",
              "\n",
              "    [theme=dark] .colab-df-convert {\n",
              "      background-color: #3B4455;\n",
              "      fill: #D2E3FC;\n",
              "    }\n",
              "\n",
              "    [theme=dark] .colab-df-convert:hover {\n",
              "      background-color: #434B5C;\n",
              "      box-shadow: 0px 1px 3px 1px rgba(0, 0, 0, 0.15);\n",
              "      filter: drop-shadow(0px 1px 2px rgba(0, 0, 0, 0.3));\n",
              "      fill: #FFFFFF;\n",
              "    }\n",
              "  </style>\n",
              "\n",
              "      <script>\n",
              "        const buttonEl =\n",
              "          document.querySelector('#df-c035107c-6357-4a9c-87cd-9d97626178f1 button.colab-df-convert');\n",
              "        buttonEl.style.display =\n",
              "          google.colab.kernel.accessAllowed ? 'block' : 'none';\n",
              "\n",
              "        async function convertToInteractive(key) {\n",
              "          const element = document.querySelector('#df-c035107c-6357-4a9c-87cd-9d97626178f1');\n",
              "          const dataTable =\n",
              "            await google.colab.kernel.invokeFunction('convertToInteractive',\n",
              "                                                     [key], {});\n",
              "          if (!dataTable) return;\n",
              "\n",
              "          const docLinkHtml = 'Like what you see? Visit the ' +\n",
              "            '<a target=\"_blank\" href=https://colab.research.google.com/notebooks/data_table.ipynb>data table notebook</a>'\n",
              "            + ' to learn more about interactive tables.';\n",
              "          element.innerHTML = '';\n",
              "          dataTable['output_type'] = 'display_data';\n",
              "          await google.colab.output.renderOutput(dataTable, element);\n",
              "          const docLink = document.createElement('div');\n",
              "          docLink.innerHTML = docLinkHtml;\n",
              "          element.appendChild(docLink);\n",
              "        }\n",
              "      </script>\n",
              "    </div>\n",
              "  </div>\n",
              "  "
            ]
          },
          "metadata": {},
          "execution_count": 7
        }
      ],
      "source": [
        "valid_set = pd.read_csv('/content/drive/MyDrive/Colab Notebooks/# Akashik Records/Valid.csv')\n",
        "valid_set.head()"
      ]
    },
    {
      "cell_type": "markdown",
      "id": "81f02e5b",
      "metadata": {
        "id": "81f02e5b"
      },
      "source": [
        "### Checking for any null values"
      ]
    },
    {
      "cell_type": "code",
      "execution_count": 8,
      "id": "f1d29a15",
      "metadata": {
        "colab": {
          "base_uri": "https://localhost:8080/"
        },
        "id": "f1d29a15",
        "outputId": "564deddf-cd87-4a52-abcc-c25acfc0549a"
      },
      "outputs": [
        {
          "output_type": "stream",
          "name": "stdout",
          "text": [
            "text     0\n",
            "label    0\n",
            "dtype: int64\n",
            "\n",
            "text     0\n",
            "label    0\n",
            "dtype: int64\n",
            "\n",
            "text     0\n",
            "label    0\n",
            "dtype: int64\n"
          ]
        }
      ],
      "source": [
        "print(train_set.isnull().sum())\n",
        "print()\n",
        "print(test_set.isnull().sum())\n",
        "print()\n",
        "print(valid_set.isnull().sum())"
      ]
    },
    {
      "cell_type": "markdown",
      "id": "2ee0d6bb",
      "metadata": {
        "id": "2ee0d6bb"
      },
      "source": [
        "##### from the observation these datasets does not contains any null values"
      ]
    },
    {
      "cell_type": "markdown",
      "id": "3e40bc3b",
      "metadata": {
        "id": "3e40bc3b"
      },
      "source": [
        "### Checking Label Distribution"
      ]
    },
    {
      "cell_type": "code",
      "execution_count": 9,
      "id": "fa2075aa",
      "metadata": {
        "colab": {
          "base_uri": "https://localhost:8080/",
          "height": 406
        },
        "id": "fa2075aa",
        "outputId": "41194780-4684-4e2f-eec0-7efb24b0e9eb"
      },
      "outputs": [
        {
          "output_type": "display_data",
          "data": {
            "text/plain": [
              "<Figure size 640x480 with 1 Axes>"
            ],
            "image/png": "[encoded data removed]"
          },
          "metadata": {}
        }
      ],
      "source": [
        "# For training set\n",
        "\n",
        "plt.pie(train_set.label.value_counts(), startangle=90, autopct='%1.1f%%',\n",
        "        labels=['Negative','Positive'],shadow=True)\n",
        "plt.show()"
      ]
    },
    {
      "cell_type": "code",
      "execution_count": 10,
      "id": "363de457",
      "metadata": {
        "colab": {
          "base_uri": "https://localhost:8080/",
          "height": 449
        },
        "id": "363de457",
        "outputId": "5cea5f78-dc54-437b-b376-63fbecac4958"
      },
      "outputs": [
        {
          "output_type": "display_data",
          "data": {
            "text/plain": [
              "<Figure size 640x480 with 1 Axes>"
            ],
            "image/png": "[encoded data removed]"
          },
          "metadata": {}
        }
      ],
      "source": [
        "# For testing set\n",
        "\n",
        "sns.countplot(data=test_set, x='label',palette='plasma')\n",
        "plt.show()"
      ]
    },
    {
      "cell_type": "markdown",
      "id": "78000ef7",
      "metadata": {
        "id": "78000ef7"
      },
      "source": [
        "### Checking shape of all datasets"
      ]
    },
    {
      "cell_type": "code",
      "execution_count": 11,
      "id": "b589c9e6",
      "metadata": {
        "colab": {
          "base_uri": "https://localhost:8080/"
        },
        "id": "b589c9e6",
        "outputId": "13b29172-848c-4f0d-e0e4-bf1056334cd4"
      },
      "outputs": [
        {
          "output_type": "stream",
          "name": "stdout",
          "text": [
            "(40000, 2) (5000, 2) (5000, 2)\n"
          ]
        }
      ],
      "source": [
        "print(train_set.shape,test_set.shape,valid_set.shape)"
      ]
    },
    {
      "cell_type": "markdown",
      "id": "33ea777e",
      "metadata": {
        "id": "33ea777e"
      },
      "source": [
        "data = pd.concat([train_set,test_set,valid], axis=0)\n",
        "data.shape"
      ]
    },
    {
      "cell_type": "markdown",
      "id": "4e27a680",
      "metadata": {
        "id": "4e27a680"
      },
      "source": [
        "data.label.value_counts()"
      ]
    },
    {
      "cell_type": "markdown",
      "id": "3dafdcd6",
      "metadata": {
        "id": "3dafdcd6"
      },
      "source": [
        "# Converting label values like 0 to Negative and 1 to Positive for better understanding."
      ]
    },
    {
      "cell_type": "code",
      "execution_count": 12,
      "id": "5e4d5b0c",
      "metadata": {
        "id": "5e4d5b0c"
      },
      "outputs": [],
      "source": [
        "def labels(x):\n",
        "    if x == 1:\n",
        "        x = 'Positive'\n",
        "    else:\n",
        "        x = 'Negative'\n",
        "    return x"
      ]
    },
    {
      "cell_type": "markdown",
      "id": "236d786b",
      "metadata": {
        "id": "236d786b"
      },
      "source": [
        "*The function checks if x is equal to 1. If x is equal to 1, the function assigns the string 'Positive' to x. Otherwise, the function assigns the string 'Negative' to x.*\n",
        "\n",
        "*The function is used to convert the numeric rating values to categorical labels of either 'Positive' or 'Negative', which can be used in sentiment analysis.*"
      ]
    },
    {
      "cell_type": "code",
      "execution_count": 13,
      "id": "3a5a2704",
      "metadata": {
        "id": "3a5a2704"
      },
      "outputs": [],
      "source": [
        "train_set.label = train_set.label.apply(lambda x: labels(x))\n",
        "test_set.label = test_set.label.apply(lambda x: labels(x))\n",
        "valid_set.label = valid_set.label.apply(lambda x: labels(x))"
      ]
    },
    {
      "cell_type": "markdown",
      "id": "a294c984",
      "metadata": {
        "id": "a294c984"
      },
      "source": [
        "data.label = data.label.apply(lambda x: labels(x))"
      ]
    },
    {
      "cell_type": "markdown",
      "id": "aa907670",
      "metadata": {
        "id": "aa907670"
      },
      "source": [
        "data.label.value_counts()"
      ]
    },
    {
      "cell_type": "markdown",
      "source": [
        "# Tokenization"
      ],
      "metadata": {
        "id": "DPMpmKEZhQ4f"
      },
      "id": "DPMpmKEZhQ4f"
    },
    {
      "cell_type": "code",
      "source": [
        "def tokenizer(texts):\n",
        "\n",
        "  token = word_tokenize(texts.lower())\n",
        "\n",
        "  stopword = stopwords.words('english')\n",
        "\n",
        "  stkns = [i for i in token if i not in stopword and i.isalpha()]\n",
        "\n",
        "  lemma = WordNetLemmatizer()\n",
        "\n",
        "  tokens = [lemma.lemmatize(i) for i in stkns]\n",
        "\n",
        "  return ' '.join(tokens)"
      ],
      "metadata": {
        "id": "CQvR8Ppwe8iu"
      },
      "id": "CQvR8Ppwe8iu",
      "execution_count": 14,
      "outputs": []
    },
    {
      "cell_type": "code",
      "source": [
        "train_set.head()"
      ],
      "metadata": {
        "colab": {
          "base_uri": "https://localhost:8080/",
          "height": 206
        },
        "id": "E1bOdRa-e8fd",
        "outputId": "37527d8f-63ce-40d1-a9e0-d542241b9187"
      },
      "id": "E1bOdRa-e8fd",
      "execution_count": 15,
      "outputs": [
        {
          "output_type": "execute_result",
          "data": {
            "text/plain": [
              "                                                text     label\n",
              "0  I grew up (b. 1965) watching and loving the Th...  Negative\n",
              "1  When I put this movie in my DVD player, and sa...  Negative\n",
              "2  Why do people who do not know what a particula...  Negative\n",
              "3  Even though I have great interest in Biblical ...  Negative\n",
              "4  Im a die hard Dads Army fan and nothing will e...  Positive"
            ],
            "text/html": [
              "\n",
              "  <div id=\"df-d93da7ee-e02b-443a-9adf-3d2a55c59319\">\n",
              "    <div class=\"colab-df-container\">\n",
              "      <div>\n",
              "<style scoped>\n",
              "    .dataframe tbody tr th:only-of-type {\n",
              "        vertical-align: middle;\n",
              "    }\n",
              "\n",
              "    .dataframe tbody tr th {\n",
              "        vertical-align: top;\n",
              "    }\n",
              "\n",
              "    .dataframe thead th {\n",
              "        text-align: right;\n",
              "    }\n",
              "</style>\n",
              "<table border=\"1\" class=\"dataframe\">\n",
              "  <thead>\n",
              "    <tr style=\"text-align: right;\">\n",
              "      <th></th>\n",
              "      <th>text</th>\n",
              "      <th>label</th>\n",
              "    </tr>\n",
              "  </thead>\n",
              "  <tbody>\n",
              "    <tr>\n",
              "      <th>0</th>\n",
              "      <td>I grew up (b. 1965) watching and loving the Th...</td>\n",
              "      <td>Negative</td>\n",
              "    </tr>\n",
              "    <tr>\n",
              "      <th>1</th>\n",
              "      <td>When I put this movie in my DVD player, and sa...</td>\n",
              "      <td>Negative</td>\n",
              "    </tr>\n",
              "    <tr>\n",
              "      <th>2</th>\n",
              "      <td>Why do people who do not know what a particula...</td>\n",
              "      <td>Negative</td>\n",
              "    </tr>\n",
              "    <tr>\n",
              "      <th>3</th>\n",
              "      <td>Even though I have great interest in Biblical ...</td>\n",
              "      <td>Negative</td>\n",
              "    </tr>\n",
              "    <tr>\n",
              "      <th>4</th>\n",
              "      <td>Im a die hard Dads Army fan and nothing will e...</td>\n",
              "      <td>Positive</td>\n",
              "    </tr>\n",
              "  </tbody>\n",
              "</table>\n",
              "</div>\n",
              "      <button class=\"colab-df-convert\" onclick=\"convertToInteractive('df-d93da7ee-e02b-443a-9adf-3d2a55c59319')\"\n",
              "              title=\"Convert this dataframe to an interactive table.\"\n",
              "              style=\"display:none;\">\n",
              "        \n",
              "  <svg xmlns=\"http://www.w3.org/2000/svg\" height=\"24px\"viewBox=\"0 0 24 24\"\n",
              "       width=\"24px\">\n",
              "    <path d=\"M0 0h24v24H0V0z\" fill=\"none\"/>\n",
              "    <path d=\"M18.56 5.44l.94 2.06.94-2.06 2.06-.94-2.06-.94-.94-2.06-.94 2.06-2.06.94zm-11 1L8.5 8.5l.94-2.06 2.06-.94-2.06-.94L8.5 2.5l-.94 2.06-2.06.94zm10 10l.94 2.06.94-2.06 2.06-.94-2.06-.94-.94-2.06-.94 2.06-2.06.94z\"/><path d=\"M17.41 7.96l-1.37-1.37c-.4-.4-.92-.59-1.43-.59-.52 0-1.04.2-1.43.59L10.3 9.45l-7.72 7.72c-.78.78-.78 2.05 0 2.83L4 21.41c.39.39.9.59 1.41.59.51 0 1.02-.2 1.41-.59l7.78-7.78 2.81-2.81c.8-.78.8-2.07 0-2.86zM5.41 20L4 18.59l7.72-7.72 1.47 1.35L5.41 20z\"/>\n",
              "  </svg>\n",
              "      </button>\n",
              "      \n",
              "  <style>\n",
              "    .colab-df-container {\n",
              "      display:flex;\n",
              "      flex-wrap:wrap;\n",
              "      gap: 12px;\n",
              "    }\n",
              "\n",
              "    .colab-df-convert {\n",
              "      background-color: #E8F0FE;\n",
              "      border: none;\n",
              "      border-radius: 50%;\n",
              "      cursor: pointer;\n",
              "      display: none;\n",
              "      fill: #1967D2;\n",
              "      height: 32px;\n",
              "      padding: 0 0 0 0;\n",
              "      width: 32px;\n",
              "    }\n",
              "\n",
              "    .colab-df-convert:hover {\n",
              "      background-color: #E2EBFA;\n",
              "      box-shadow: 0px 1px 2px rgba(60, 64, 67, 0.3), 0px 1px 3px 1px rgba(60, 64, 67, 0.15);\n",
              "      fill: #174EA6;\n",
              "    }\n",
              "\n",
              "    [theme=dark] .colab-df-convert {\n",
              "      background-color: #3B4455;\n",
              "      fill: #D2E3FC;\n",
              "    }\n",
              "\n",
              "    [theme=dark] .colab-df-convert:hover {\n",
              "      background-color: #434B5C;\n",
              "      box-shadow: 0px 1px 3px 1px rgba(0, 0, 0, 0.15);\n",
              "      filter: drop-shadow(0px 1px 2px rgba(0, 0, 0, 0.3));\n",
              "      fill: #FFFFFF;\n",
              "    }\n",
              "  </style>\n",
              "\n",
              "      <script>\n",
              "        const buttonEl =\n",
              "          document.querySelector('#df-d93da7ee-e02b-443a-9adf-3d2a55c59319 button.colab-df-convert');\n",
              "        buttonEl.style.display =\n",
              "          google.colab.kernel.accessAllowed ? 'block' : 'none';\n",
              "\n",
              "        async function convertToInteractive(key) {\n",
              "          const element = document.querySelector('#df-d93da7ee-e02b-443a-9adf-3d2a55c59319');\n",
              "          const dataTable =\n",
              "            await google.colab.kernel.invokeFunction('convertToInteractive',\n",
              "                                                     [key], {});\n",
              "          if (!dataTable) return;\n",
              "\n",
              "          const docLinkHtml = 'Like what you see? Visit the ' +\n",
              "            '<a target=\"_blank\" href=https://colab.research.google.com/notebooks/data_table.ipynb>data table notebook</a>'\n",
              "            + ' to learn more about interactive tables.';\n",
              "          element.innerHTML = '';\n",
              "          dataTable['output_type'] = 'display_data';\n",
              "          await google.colab.output.renderOutput(dataTable, element);\n",
              "          const docLink = document.createElement('div');\n",
              "          docLink.innerHTML = docLinkHtml;\n",
              "          element.appendChild(docLink);\n",
              "        }\n",
              "      </script>\n",
              "    </div>\n",
              "  </div>\n",
              "  "
            ]
          },
          "metadata": {},
          "execution_count": 15
        }
      ]
    },
    {
      "cell_type": "code",
      "source": [
        "valid_set.head()"
      ],
      "metadata": {
        "colab": {
          "base_uri": "https://localhost:8080/",
          "height": 206
        },
        "id": "lLu6kbhMjwuY",
        "outputId": "ade43643-e169-4896-f559-2719eae73158"
      },
      "id": "lLu6kbhMjwuY",
      "execution_count": 16,
      "outputs": [
        {
          "output_type": "execute_result",
          "data": {
            "text/plain": [
              "                                                text     label\n",
              "0  It's been about 14 years since Sharon Stone aw...  Negative\n",
              "1  someone needed to make a car payment... this i...  Negative\n",
              "2  The Guidelines state that a comment must conta...  Negative\n",
              "3  This movie is a muddled mish-mash of clichés f...  Negative\n",
              "4  Before Stan Laurel became the smaller half of ...  Negative"
            ],
            "text/html": [
              "\n",
              "  <div id=\"df-cc193d29-0706-4d78-b520-0df68e22971c\">\n",
              "    <div class=\"colab-df-container\">\n",
              "      <div>\n",
              "<style scoped>\n",
              "    .dataframe tbody tr th:only-of-type {\n",
              "        vertical-align: middle;\n",
              "    }\n",
              "\n",
              "    .dataframe tbody tr th {\n",
              "        vertical-align: top;\n",
              "    }\n",
              "\n",
              "    .dataframe thead th {\n",
              "        text-align: right;\n",
              "    }\n",
              "</style>\n",
              "<table border=\"1\" class=\"dataframe\">\n",
              "  <thead>\n",
              "    <tr style=\"text-align: right;\">\n",
              "      <th></th>\n",
              "      <th>text</th>\n",
              "      <th>label</th>\n",
              "    </tr>\n",
              "  </thead>\n",
              "  <tbody>\n",
              "    <tr>\n",
              "      <th>0</th>\n",
              "      <td>It's been about 14 years since Sharon Stone aw...</td>\n",
              "      <td>Negative</td>\n",
              "    </tr>\n",
              "    <tr>\n",
              "      <th>1</th>\n",
              "      <td>someone needed to make a car payment... this i...</td>\n",
              "      <td>Negative</td>\n",
              "    </tr>\n",
              "    <tr>\n",
              "      <th>2</th>\n",
              "      <td>The Guidelines state that a comment must conta...</td>\n",
              "      <td>Negative</td>\n",
              "    </tr>\n",
              "    <tr>\n",
              "      <th>3</th>\n",
              "      <td>This movie is a muddled mish-mash of clichés f...</td>\n",
              "      <td>Negative</td>\n",
              "    </tr>\n",
              "    <tr>\n",
              "      <th>4</th>\n",
              "      <td>Before Stan Laurel became the smaller half of ...</td>\n",
              "      <td>Negative</td>\n",
              "    </tr>\n",
              "  </tbody>\n",
              "</table>\n",
              "</div>\n",
              "      <button class=\"colab-df-convert\" onclick=\"convertToInteractive('df-cc193d29-0706-4d78-b520-0df68e22971c')\"\n",
              "              title=\"Convert this dataframe to an interactive table.\"\n",
              "              style=\"display:none;\">\n",
              "        \n",
              "  <svg xmlns=\"http://www.w3.org/2000/svg\" height=\"24px\"viewBox=\"0 0 24 24\"\n",
              "       width=\"24px\">\n",
              "    <path d=\"M0 0h24v24H0V0z\" fill=\"none\"/>\n",
              "    <path d=\"M18.56 5.44l.94 2.06.94-2.06 2.06-.94-2.06-.94-.94-2.06-.94 2.06-2.06.94zm-11 1L8.5 8.5l.94-2.06 2.06-.94-2.06-.94L8.5 2.5l-.94 2.06-2.06.94zm10 10l.94 2.06.94-2.06 2.06-.94-2.06-.94-.94-2.06-.94 2.06-2.06.94z\"/><path d=\"M17.41 7.96l-1.37-1.37c-.4-.4-.92-.59-1.43-.59-.52 0-1.04.2-1.43.59L10.3 9.45l-7.72 7.72c-.78.78-.78 2.05 0 2.83L4 21.41c.39.39.9.59 1.41.59.51 0 1.02-.2 1.41-.59l7.78-7.78 2.81-2.81c.8-.78.8-2.07 0-2.86zM5.41 20L4 18.59l7.72-7.72 1.47 1.35L5.41 20z\"/>\n",
              "  </svg>\n",
              "      </button>\n",
              "      \n",
              "  <style>\n",
              "    .colab-df-container {\n",
              "      display:flex;\n",
              "      flex-wrap:wrap;\n",
              "      gap: 12px;\n",
              "    }\n",
              "\n",
              "    .colab-df-convert {\n",
              "      background-color: #E8F0FE;\n",
              "      border: none;\n",
              "      border-radius: 50%;\n",
              "      cursor: pointer;\n",
              "      display: none;\n",
              "      fill: #1967D2;\n",
              "      height: 32px;\n",
              "      padding: 0 0 0 0;\n",
              "      width: 32px;\n",
              "    }\n",
              "\n",
              "    .colab-df-convert:hover {\n",
              "      background-color: #E2EBFA;\n",
              "      box-shadow: 0px 1px 2px rgba(60, 64, 67, 0.3), 0px 1px 3px 1px rgba(60, 64, 67, 0.15);\n",
              "      fill: #174EA6;\n",
              "    }\n",
              "\n",
              "    [theme=dark] .colab-df-convert {\n",
              "      background-color: #3B4455;\n",
              "      fill: #D2E3FC;\n",
              "    }\n",
              "\n",
              "    [theme=dark] .colab-df-convert:hover {\n",
              "      background-color: #434B5C;\n",
              "      box-shadow: 0px 1px 3px 1px rgba(0, 0, 0, 0.15);\n",
              "      filter: drop-shadow(0px 1px 2px rgba(0, 0, 0, 0.3));\n",
              "      fill: #FFFFFF;\n",
              "    }\n",
              "  </style>\n",
              "\n",
              "      <script>\n",
              "        const buttonEl =\n",
              "          document.querySelector('#df-cc193d29-0706-4d78-b520-0df68e22971c button.colab-df-convert');\n",
              "        buttonEl.style.display =\n",
              "          google.colab.kernel.accessAllowed ? 'block' : 'none';\n",
              "\n",
              "        async function convertToInteractive(key) {\n",
              "          const element = document.querySelector('#df-cc193d29-0706-4d78-b520-0df68e22971c');\n",
              "          const dataTable =\n",
              "            await google.colab.kernel.invokeFunction('convertToInteractive',\n",
              "                                                     [key], {});\n",
              "          if (!dataTable) return;\n",
              "\n",
              "          const docLinkHtml = 'Like what you see? Visit the ' +\n",
              "            '<a target=\"_blank\" href=https://colab.research.google.com/notebooks/data_table.ipynb>data table notebook</a>'\n",
              "            + ' to learn more about interactive tables.';\n",
              "          element.innerHTML = '';\n",
              "          dataTable['output_type'] = 'display_data';\n",
              "          await google.colab.output.renderOutput(dataTable, element);\n",
              "          const docLink = document.createElement('div');\n",
              "          docLink.innerHTML = docLinkHtml;\n",
              "          element.appendChild(docLink);\n",
              "        }\n",
              "      </script>\n",
              "    </div>\n",
              "  </div>\n",
              "  "
            ]
          },
          "metadata": {},
          "execution_count": 16
        }
      ]
    },
    {
      "cell_type": "code",
      "source": [
        "# train_set['clean_text'] = train_set.text.apply(tokenizer)\n",
        "# test_set['clean_text'] = test_set.text.apply(tokenizer)\n",
        "# valid_set['clean_text'] = valid_set.text.apply(tokenizer)"
      ],
      "metadata": {
        "id": "sRVYC5hke8cm"
      },
      "id": "sRVYC5hke8cm",
      "execution_count": 17,
      "outputs": []
    },
    {
      "cell_type": "code",
      "source": [
        "# train_set = train_set.iloc[:, [-1,1]]\n",
        "# test_set = test_set.iloc[:, [-1,1]]\n",
        "# valid_set = valid_set.iloc[:, [-1,1]]"
      ],
      "metadata": {
        "id": "0UVRWk8Qhyv7"
      },
      "id": "0UVRWk8Qhyv7",
      "execution_count": 18,
      "outputs": []
    },
    {
      "cell_type": "code",
      "source": [
        "# train_set.to_csv('/content/drive/MyDrive/Colab Notebooks/# Akashik Records/mod_train.csv',index=False)\n",
        "# test_set.to_csv('/content/drive/MyDrive/Colab Notebooks/# Akashik Records/mod_test.csv',index=False)\n",
        "# valid_set.to_csv('/content/drive/MyDrive/Colab Notebooks/# Akashik Records/valid_test.csv',index=False)"
      ],
      "metadata": {
        "id": "fG06Tddxe8W6"
      },
      "id": "fG06Tddxe8W6",
      "execution_count": 19,
      "outputs": []
    },
    {
      "cell_type": "markdown",
      "source": [
        "# Using Clean Data"
      ],
      "metadata": {
        "id": "MBfQhpVWhYff"
      },
      "id": "MBfQhpVWhYff"
    },
    {
      "cell_type": "code",
      "source": [
        "mod_train = pd.read_csv('/content/drive/MyDrive/Colab Notebooks/# Akashik Records/mod_train.csv')\n",
        "mod_train.head()"
      ],
      "metadata": {
        "colab": {
          "base_uri": "https://localhost:8080/",
          "height": 206
        },
        "id": "dpeCbA5fe8Tr",
        "outputId": "0c3e81c0-1a47-4eaa-88f7-2c574b44d063"
      },
      "id": "dpeCbA5fe8Tr",
      "execution_count": 20,
      "outputs": [
        {
          "output_type": "execute_result",
          "data": {
            "text/plain": [
              "                                          clean_text     label\n",
              "0  grew b watching loving thunderbird mate school...  Negative\n",
              "1  put movie dvd player sat coke chip expectation...  Negative\n",
              "2  people know particular time past like feel nee...  Negative\n",
              "3  even though great interest biblical movie bore...  Negative\n",
              "4  im die hard dad army fan nothing ever change g...  Positive"
            ],
            "text/html": [
              "\n",
              "  <div id=\"df-9b5f54dc-1a36-4d52-9437-13bf300263b0\">\n",
              "    <div class=\"colab-df-container\">\n",
              "      <div>\n",
              "<style scoped>\n",
              "    .dataframe tbody tr th:only-of-type {\n",
              "        vertical-align: middle;\n",
              "    }\n",
              "\n",
              "    .dataframe tbody tr th {\n",
              "        vertical-align: top;\n",
              "    }\n",
              "\n",
              "    .dataframe thead th {\n",
              "        text-align: right;\n",
              "    }\n",
              "</style>\n",
              "<table border=\"1\" class=\"dataframe\">\n",
              "  <thead>\n",
              "    <tr style=\"text-align: right;\">\n",
              "      <th></th>\n",
              "      <th>clean_text</th>\n",
              "      <th>label</th>\n",
              "    </tr>\n",
              "  </thead>\n",
              "  <tbody>\n",
              "    <tr>\n",
              "      <th>0</th>\n",
              "      <td>grew b watching loving thunderbird mate school...</td>\n",
              "      <td>Negative</td>\n",
              "    </tr>\n",
              "    <tr>\n",
              "      <th>1</th>\n",
              "      <td>put movie dvd player sat coke chip expectation...</td>\n",
              "      <td>Negative</td>\n",
              "    </tr>\n",
              "    <tr>\n",
              "      <th>2</th>\n",
              "      <td>people know particular time past like feel nee...</td>\n",
              "      <td>Negative</td>\n",
              "    </tr>\n",
              "    <tr>\n",
              "      <th>3</th>\n",
              "      <td>even though great interest biblical movie bore...</td>\n",
              "      <td>Negative</td>\n",
              "    </tr>\n",
              "    <tr>\n",
              "      <th>4</th>\n",
              "      <td>im die hard dad army fan nothing ever change g...</td>\n",
              "      <td>Positive</td>\n",
              "    </tr>\n",
              "  </tbody>\n",
              "</table>\n",
              "</div>\n",
              "      <button class=\"colab-df-convert\" onclick=\"convertToInteractive('df-9b5f54dc-1a36-4d52-9437-13bf300263b0')\"\n",
              "              title=\"Convert this dataframe to an interactive table.\"\n",
              "              style=\"display:none;\">\n",
              "        \n",
              "  <svg xmlns=\"http://www.w3.org/2000/svg\" height=\"24px\"viewBox=\"0 0 24 24\"\n",
              "       width=\"24px\">\n",
              "    <path d=\"M0 0h24v24H0V0z\" fill=\"none\"/>\n",
              "    <path d=\"M18.56 5.44l.94 2.06.94-2.06 2.06-.94-2.06-.94-.94-2.06-.94 2.06-2.06.94zm-11 1L8.5 8.5l.94-2.06 2.06-.94-2.06-.94L8.5 2.5l-.94 2.06-2.06.94zm10 10l.94 2.06.94-2.06 2.06-.94-2.06-.94-.94-2.06-.94 2.06-2.06.94z\"/><path d=\"M17.41 7.96l-1.37-1.37c-.4-.4-.92-.59-1.43-.59-.52 0-1.04.2-1.43.59L10.3 9.45l-7.72 7.72c-.78.78-.78 2.05 0 2.83L4 21.41c.39.39.9.59 1.41.59.51 0 1.02-.2 1.41-.59l7.78-7.78 2.81-2.81c.8-.78.8-2.07 0-2.86zM5.41 20L4 18.59l7.72-7.72 1.47 1.35L5.41 20z\"/>\n",
              "  </svg>\n",
              "      </button>\n",
              "      \n",
              "  <style>\n",
              "    .colab-df-container {\n",
              "      display:flex;\n",
              "      flex-wrap:wrap;\n",
              "      gap: 12px;\n",
              "    }\n",
              "\n",
              "    .colab-df-convert {\n",
              "      background-color: #E8F0FE;\n",
              "      border: none;\n",
              "      border-radius: 50%;\n",
              "      cursor: pointer;\n",
              "      display: none;\n",
              "      fill: #1967D2;\n",
              "      height: 32px;\n",
              "      padding: 0 0 0 0;\n",
              "      width: 32px;\n",
              "    }\n",
              "\n",
              "    .colab-df-convert:hover {\n",
              "      background-color: #E2EBFA;\n",
              "      box-shadow: 0px 1px 2px rgba(60, 64, 67, 0.3), 0px 1px 3px 1px rgba(60, 64, 67, 0.15);\n",
              "      fill: #174EA6;\n",
              "    }\n",
              "\n",
              "    [theme=dark] .colab-df-convert {\n",
              "      background-color: #3B4455;\n",
              "      fill: #D2E3FC;\n",
              "    }\n",
              "\n",
              "    [theme=dark] .colab-df-convert:hover {\n",
              "      background-color: #434B5C;\n",
              "      box-shadow: 0px 1px 3px 1px rgba(0, 0, 0, 0.15);\n",
              "      filter: drop-shadow(0px 1px 2px rgba(0, 0, 0, 0.3));\n",
              "      fill: #FFFFFF;\n",
              "    }\n",
              "  </style>\n",
              "\n",
              "      <script>\n",
              "        const buttonEl =\n",
              "          document.querySelector('#df-9b5f54dc-1a36-4d52-9437-13bf300263b0 button.colab-df-convert');\n",
              "        buttonEl.style.display =\n",
              "          google.colab.kernel.accessAllowed ? 'block' : 'none';\n",
              "\n",
              "        async function convertToInteractive(key) {\n",
              "          const element = document.querySelector('#df-9b5f54dc-1a36-4d52-9437-13bf300263b0');\n",
              "          const dataTable =\n",
              "            await google.colab.kernel.invokeFunction('convertToInteractive',\n",
              "                                                     [key], {});\n",
              "          if (!dataTable) return;\n",
              "\n",
              "          const docLinkHtml = 'Like what you see? Visit the ' +\n",
              "            '<a target=\"_blank\" href=https://colab.research.google.com/notebooks/data_table.ipynb>data table notebook</a>'\n",
              "            + ' to learn more about interactive tables.';\n",
              "          element.innerHTML = '';\n",
              "          dataTable['output_type'] = 'display_data';\n",
              "          await google.colab.output.renderOutput(dataTable, element);\n",
              "          const docLink = document.createElement('div');\n",
              "          docLink.innerHTML = docLinkHtml;\n",
              "          element.appendChild(docLink);\n",
              "        }\n",
              "      </script>\n",
              "    </div>\n",
              "  </div>\n",
              "  "
            ]
          },
          "metadata": {},
          "execution_count": 20
        }
      ]
    },
    {
      "cell_type": "code",
      "source": [
        "mod_test = pd.read_csv('/content/drive/MyDrive/Colab Notebooks/# Akashik Records/mod_test.csv')\n",
        "mod_test.head()"
      ],
      "metadata": {
        "colab": {
          "base_uri": "https://localhost:8080/",
          "height": 206
        },
        "outputId": "e46f5ca0-a676-45ea-8abd-8860d80a47ea",
        "id": "kboxerFai0ay"
      },
      "execution_count": 21,
      "outputs": [
        {
          "output_type": "execute_result",
          "data": {
            "text/plain": [
              "                                          clean_text     label\n",
              "0  always wrote series complete jim belushi invol...  Negative\n",
              "1  watched purcell typical mary kate ashley fare ...  Negative\n",
              "2  movie poorly written directed fell asleep minu...  Negative\n",
              "3  interesting thing miryang secret sunshine acto...  Positive\n",
              "4  first read berlin meer expect much thought rig...  Negative"
            ],
            "text/html": [
              "\n",
              "  <div id=\"df-8b906ff4-5484-4d69-9f56-095d4ce45794\">\n",
              "    <div class=\"colab-df-container\">\n",
              "      <div>\n",
              "<style scoped>\n",
              "    .dataframe tbody tr th:only-of-type {\n",
              "        vertical-align: middle;\n",
              "    }\n",
              "\n",
              "    .dataframe tbody tr th {\n",
              "        vertical-align: top;\n",
              "    }\n",
              "\n",
              "    .dataframe thead th {\n",
              "        text-align: right;\n",
              "    }\n",
              "</style>\n",
              "<table border=\"1\" class=\"dataframe\">\n",
              "  <thead>\n",
              "    <tr style=\"text-align: right;\">\n",
              "      <th></th>\n",
              "      <th>clean_text</th>\n",
              "      <th>label</th>\n",
              "    </tr>\n",
              "  </thead>\n",
              "  <tbody>\n",
              "    <tr>\n",
              "      <th>0</th>\n",
              "      <td>always wrote series complete jim belushi invol...</td>\n",
              "      <td>Negative</td>\n",
              "    </tr>\n",
              "    <tr>\n",
              "      <th>1</th>\n",
              "      <td>watched purcell typical mary kate ashley fare ...</td>\n",
              "      <td>Negative</td>\n",
              "    </tr>\n",
              "    <tr>\n",
              "      <th>2</th>\n",
              "      <td>movie poorly written directed fell asleep minu...</td>\n",
              "      <td>Negative</td>\n",
              "    </tr>\n",
              "    <tr>\n",
              "      <th>3</th>\n",
              "      <td>interesting thing miryang secret sunshine acto...</td>\n",
              "      <td>Positive</td>\n",
              "    </tr>\n",
              "    <tr>\n",
              "      <th>4</th>\n",
              "      <td>first read berlin meer expect much thought rig...</td>\n",
              "      <td>Negative</td>\n",
              "    </tr>\n",
              "  </tbody>\n",
              "</table>\n",
              "</div>\n",
              "      <button class=\"colab-df-convert\" onclick=\"convertToInteractive('df-8b906ff4-5484-4d69-9f56-095d4ce45794')\"\n",
              "              title=\"Convert this dataframe to an interactive table.\"\n",
              "              style=\"display:none;\">\n",
              "        \n",
              "  <svg xmlns=\"http://www.w3.org/2000/svg\" height=\"24px\"viewBox=\"0 0 24 24\"\n",
              "       width=\"24px\">\n",
              "    <path d=\"M0 0h24v24H0V0z\" fill=\"none\"/>\n",
              "    <path d=\"M18.56 5.44l.94 2.06.94-2.06 2.06-.94-2.06-.94-.94-2.06-.94 2.06-2.06.94zm-11 1L8.5 8.5l.94-2.06 2.06-.94-2.06-.94L8.5 2.5l-.94 2.06-2.06.94zm10 10l.94 2.06.94-2.06 2.06-.94-2.06-.94-.94-2.06-.94 2.06-2.06.94z\"/><path d=\"M17.41 7.96l-1.37-1.37c-.4-.4-.92-.59-1.43-.59-.52 0-1.04.2-1.43.59L10.3 9.45l-7.72 7.72c-.78.78-.78 2.05 0 2.83L4 21.41c.39.39.9.59 1.41.59.51 0 1.02-.2 1.41-.59l7.78-7.78 2.81-2.81c.8-.78.8-2.07 0-2.86zM5.41 20L4 18.59l7.72-7.72 1.47 1.35L5.41 20z\"/>\n",
              "  </svg>\n",
              "      </button>\n",
              "      \n",
              "  <style>\n",
              "    .colab-df-container {\n",
              "      display:flex;\n",
              "      flex-wrap:wrap;\n",
              "      gap: 12px;\n",
              "    }\n",
              "\n",
              "    .colab-df-convert {\n",
              "      background-color: #E8F0FE;\n",
              "      border: none;\n",
              "      border-radius: 50%;\n",
              "      cursor: pointer;\n",
              "      display: none;\n",
              "      fill: #1967D2;\n",
              "      height: 32px;\n",
              "      padding: 0 0 0 0;\n",
              "      width: 32px;\n",
              "    }\n",
              "\n",
              "    .colab-df-convert:hover {\n",
              "      background-color: #E2EBFA;\n",
              "      box-shadow: 0px 1px 2px rgba(60, 64, 67, 0.3), 0px 1px 3px 1px rgba(60, 64, 67, 0.15);\n",
              "      fill: #174EA6;\n",
              "    }\n",
              "\n",
              "    [theme=dark] .colab-df-convert {\n",
              "      background-color: #3B4455;\n",
              "      fill: #D2E3FC;\n",
              "    }\n",
              "\n",
              "    [theme=dark] .colab-df-convert:hover {\n",
              "      background-color: #434B5C;\n",
              "      box-shadow: 0px 1px 3px 1px rgba(0, 0, 0, 0.15);\n",
              "      filter: drop-shadow(0px 1px 2px rgba(0, 0, 0, 0.3));\n",
              "      fill: #FFFFFF;\n",
              "    }\n",
              "  </style>\n",
              "\n",
              "      <script>\n",
              "        const buttonEl =\n",
              "          document.querySelector('#df-8b906ff4-5484-4d69-9f56-095d4ce45794 button.colab-df-convert');\n",
              "        buttonEl.style.display =\n",
              "          google.colab.kernel.accessAllowed ? 'block' : 'none';\n",
              "\n",
              "        async function convertToInteractive(key) {\n",
              "          const element = document.querySelector('#df-8b906ff4-5484-4d69-9f56-095d4ce45794');\n",
              "          const dataTable =\n",
              "            await google.colab.kernel.invokeFunction('convertToInteractive',\n",
              "                                                     [key], {});\n",
              "          if (!dataTable) return;\n",
              "\n",
              "          const docLinkHtml = 'Like what you see? Visit the ' +\n",
              "            '<a target=\"_blank\" href=https://colab.research.google.com/notebooks/data_table.ipynb>data table notebook</a>'\n",
              "            + ' to learn more about interactive tables.';\n",
              "          element.innerHTML = '';\n",
              "          dataTable['output_type'] = 'display_data';\n",
              "          await google.colab.output.renderOutput(dataTable, element);\n",
              "          const docLink = document.createElement('div');\n",
              "          docLink.innerHTML = docLinkHtml;\n",
              "          element.appendChild(docLink);\n",
              "        }\n",
              "      </script>\n",
              "    </div>\n",
              "  </div>\n",
              "  "
            ]
          },
          "metadata": {},
          "execution_count": 21
        }
      ],
      "id": "kboxerFai0ay"
    },
    {
      "cell_type": "code",
      "source": [
        "mod_valid = pd.read_csv('/content/drive/MyDrive/Colab Notebooks/# Akashik Records/mod_test.csv')\n",
        "mod_valid.head()"
      ],
      "metadata": {
        "colab": {
          "base_uri": "https://localhost:8080/",
          "height": 206
        },
        "id": "mttbx_iZe8QL",
        "outputId": "e8d637cf-1f30-4cb4-9209-481f1432bdad"
      },
      "id": "mttbx_iZe8QL",
      "execution_count": 22,
      "outputs": [
        {
          "output_type": "execute_result",
          "data": {
            "text/plain": [
              "                                          clean_text     label\n",
              "0  always wrote series complete jim belushi invol...  Negative\n",
              "1  watched purcell typical mary kate ashley fare ...  Negative\n",
              "2  movie poorly written directed fell asleep minu...  Negative\n",
              "3  interesting thing miryang secret sunshine acto...  Positive\n",
              "4  first read berlin meer expect much thought rig...  Negative"
            ],
            "text/html": [
              "\n",
              "  <div id=\"df-9714d719-ba83-415e-bd47-756741c5b6e6\">\n",
              "    <div class=\"colab-df-container\">\n",
              "      <div>\n",
              "<style scoped>\n",
              "    .dataframe tbody tr th:only-of-type {\n",
              "        vertical-align: middle;\n",
              "    }\n",
              "\n",
              "    .dataframe tbody tr th {\n",
              "        vertical-align: top;\n",
              "    }\n",
              "\n",
              "    .dataframe thead th {\n",
              "        text-align: right;\n",
              "    }\n",
              "</style>\n",
              "<table border=\"1\" class=\"dataframe\">\n",
              "  <thead>\n",
              "    <tr style=\"text-align: right;\">\n",
              "      <th></th>\n",
              "      <th>clean_text</th>\n",
              "      <th>label</th>\n",
              "    </tr>\n",
              "  </thead>\n",
              "  <tbody>\n",
              "    <tr>\n",
              "      <th>0</th>\n",
              "      <td>always wrote series complete jim belushi invol...</td>\n",
              "      <td>Negative</td>\n",
              "    </tr>\n",
              "    <tr>\n",
              "      <th>1</th>\n",
              "      <td>watched purcell typical mary kate ashley fare ...</td>\n",
              "      <td>Negative</td>\n",
              "    </tr>\n",
              "    <tr>\n",
              "      <th>2</th>\n",
              "      <td>movie poorly written directed fell asleep minu...</td>\n",
              "      <td>Negative</td>\n",
              "    </tr>\n",
              "    <tr>\n",
              "      <th>3</th>\n",
              "      <td>interesting thing miryang secret sunshine acto...</td>\n",
              "      <td>Positive</td>\n",
              "    </tr>\n",
              "    <tr>\n",
              "      <th>4</th>\n",
              "      <td>first read berlin meer expect much thought rig...</td>\n",
              "      <td>Negative</td>\n",
              "    </tr>\n",
              "  </tbody>\n",
              "</table>\n",
              "</div>\n",
              "      <button class=\"colab-df-convert\" onclick=\"convertToInteractive('df-9714d719-ba83-415e-bd47-756741c5b6e6')\"\n",
              "              title=\"Convert this dataframe to an interactive table.\"\n",
              "              style=\"display:none;\">\n",
              "        \n",
              "  <svg xmlns=\"http://www.w3.org/2000/svg\" height=\"24px\"viewBox=\"0 0 24 24\"\n",
              "       width=\"24px\">\n",
              "    <path d=\"M0 0h24v24H0V0z\" fill=\"none\"/>\n",
              "    <path d=\"M18.56 5.44l.94 2.06.94-2.06 2.06-.94-2.06-.94-.94-2.06-.94 2.06-2.06.94zm-11 1L8.5 8.5l.94-2.06 2.06-.94-2.06-.94L8.5 2.5l-.94 2.06-2.06.94zm10 10l.94 2.06.94-2.06 2.06-.94-2.06-.94-.94-2.06-.94 2.06-2.06.94z\"/><path d=\"M17.41 7.96l-1.37-1.37c-.4-.4-.92-.59-1.43-.59-.52 0-1.04.2-1.43.59L10.3 9.45l-7.72 7.72c-.78.78-.78 2.05 0 2.83L4 21.41c.39.39.9.59 1.41.59.51 0 1.02-.2 1.41-.59l7.78-7.78 2.81-2.81c.8-.78.8-2.07 0-2.86zM5.41 20L4 18.59l7.72-7.72 1.47 1.35L5.41 20z\"/>\n",
              "  </svg>\n",
              "      </button>\n",
              "      \n",
              "  <style>\n",
              "    .colab-df-container {\n",
              "      display:flex;\n",
              "      flex-wrap:wrap;\n",
              "      gap: 12px;\n",
              "    }\n",
              "\n",
              "    .colab-df-convert {\n",
              "      background-color: #E8F0FE;\n",
              "      border: none;\n",
              "      border-radius: 50%;\n",
              "      cursor: pointer;\n",
              "      display: none;\n",
              "      fill: #1967D2;\n",
              "      height: 32px;\n",
              "      padding: 0 0 0 0;\n",
              "      width: 32px;\n",
              "    }\n",
              "\n",
              "    .colab-df-convert:hover {\n",
              "      background-color: #E2EBFA;\n",
              "      box-shadow: 0px 1px 2px rgba(60, 64, 67, 0.3), 0px 1px 3px 1px rgba(60, 64, 67, 0.15);\n",
              "      fill: #174EA6;\n",
              "    }\n",
              "\n",
              "    [theme=dark] .colab-df-convert {\n",
              "      background-color: #3B4455;\n",
              "      fill: #D2E3FC;\n",
              "    }\n",
              "\n",
              "    [theme=dark] .colab-df-convert:hover {\n",
              "      background-color: #434B5C;\n",
              "      box-shadow: 0px 1px 3px 1px rgba(0, 0, 0, 0.15);\n",
              "      filter: drop-shadow(0px 1px 2px rgba(0, 0, 0, 0.3));\n",
              "      fill: #FFFFFF;\n",
              "    }\n",
              "  </style>\n",
              "\n",
              "      <script>\n",
              "        const buttonEl =\n",
              "          document.querySelector('#df-9714d719-ba83-415e-bd47-756741c5b6e6 button.colab-df-convert');\n",
              "        buttonEl.style.display =\n",
              "          google.colab.kernel.accessAllowed ? 'block' : 'none';\n",
              "\n",
              "        async function convertToInteractive(key) {\n",
              "          const element = document.querySelector('#df-9714d719-ba83-415e-bd47-756741c5b6e6');\n",
              "          const dataTable =\n",
              "            await google.colab.kernel.invokeFunction('convertToInteractive',\n",
              "                                                     [key], {});\n",
              "          if (!dataTable) return;\n",
              "\n",
              "          const docLinkHtml = 'Like what you see? Visit the ' +\n",
              "            '<a target=\"_blank\" href=https://colab.research.google.com/notebooks/data_table.ipynb>data table notebook</a>'\n",
              "            + ' to learn more about interactive tables.';\n",
              "          element.innerHTML = '';\n",
              "          dataTable['output_type'] = 'display_data';\n",
              "          await google.colab.output.renderOutput(dataTable, element);\n",
              "          const docLink = document.createElement('div');\n",
              "          docLink.innerHTML = docLinkHtml;\n",
              "          element.appendChild(docLink);\n",
              "        }\n",
              "      </script>\n",
              "    </div>\n",
              "  </div>\n",
              "  "
            ]
          },
          "metadata": {},
          "execution_count": 22
        }
      ]
    },
    {
      "cell_type": "markdown",
      "id": "8dded785",
      "metadata": {
        "id": "8dded785"
      },
      "source": [
        "## Step 2: Splitting the Data"
      ]
    },
    {
      "cell_type": "code",
      "execution_count": 23,
      "id": "ffd7acc8",
      "metadata": {
        "id": "ffd7acc8"
      },
      "outputs": [],
      "source": [
        "xtrain,ytrain = mod_train.clean_text, mod_train.label"
      ]
    },
    {
      "cell_type": "code",
      "execution_count": 24,
      "id": "92d5ef58",
      "metadata": {
        "id": "92d5ef58"
      },
      "outputs": [],
      "source": [
        "xtest, ytest = mod_test.clean_text, mod_test.label"
      ]
    },
    {
      "cell_type": "markdown",
      "id": "2fc7e78b",
      "metadata": {
        "id": "2fc7e78b"
      },
      "source": [
        "## Bag of Words"
      ]
    },
    {
      "cell_type": "markdown",
      "id": "687901f3",
      "metadata": {
        "id": "687901f3"
      },
      "source": [
        "from sklearn.model_selection import train_test_split\n",
        "\n",
        "xtrain, xtest, ytrain, ytest = train_test_split(x,y,test_size=0.50,random_state=46)"
      ]
    },
    {
      "cell_type": "markdown",
      "id": "88e12b09",
      "metadata": {
        "id": "88e12b09"
      },
      "source": [
        "*This line of Python code imports the CountVectorizer class from the feature_extraction.text module of the scikit-learn library.*"
      ]
    },
    {
      "cell_type": "code",
      "execution_count": 25,
      "id": "3e4896db",
      "metadata": {
        "id": "3e4896db"
      },
      "outputs": [],
      "source": [
        "from sklearn.feature_extraction.text import CountVectorizer, TfidfVectorizer"
      ]
    },
    {
      "cell_type": "code",
      "execution_count": 26,
      "id": "2027241e",
      "metadata": {
        "id": "2027241e"
      },
      "outputs": [],
      "source": [
        "cv = CountVectorizer()\n",
        "xtrain = cv.fit_transform(xtrain)\n",
        "xtest = cv.transform(xtest)"
      ]
    },
    {
      "cell_type": "markdown",
      "id": "6e434273",
      "metadata": {
        "id": "6e434273"
      },
      "source": [
        "The CountVectorizer class is used to convert a collection of text documents into a matrix of token counts, where each row of the matrix represents a document and each column represents a unique token (i.e., word) in the corpus of documents. The values in the matrix represent the count of each token in each document.\n",
        "\n",
        "In this case, the fit_transform method of the CountVectorizer object is being used to create the matrix of token counts from the x variable, which contains the text data of the customer reviews. The resulting matrix is then converted to a NumPy array using the toarray method."
      ]
    },
    {
      "cell_type": "code",
      "execution_count": 27,
      "id": "535a4a2b",
      "metadata": {
        "colab": {
          "base_uri": "https://localhost:8080/"
        },
        "id": "535a4a2b",
        "outputId": "a99602c3-b4ed-49cd-f088-ec3b36a35f0e"
      },
      "outputs": [
        {
          "output_type": "execute_result",
          "data": {
            "text/plain": [
              "(40000, 79749)"
            ]
          },
          "metadata": {},
          "execution_count": 27
        }
      ],
      "source": [
        "xtrain.shape"
      ]
    },
    {
      "cell_type": "code",
      "execution_count": 28,
      "id": "a72678b0",
      "metadata": {
        "colab": {
          "base_uri": "https://localhost:8080/"
        },
        "id": "a72678b0",
        "outputId": "078561b2-5c2d-40ae-ae26-a1443e2e04f3"
      },
      "outputs": [
        {
          "output_type": "execute_result",
          "data": {
            "text/plain": [
              "(40000,)"
            ]
          },
          "metadata": {},
          "execution_count": 28
        }
      ],
      "source": [
        "ytrain.shape"
      ]
    },
    {
      "cell_type": "code",
      "execution_count": 29,
      "id": "1a54621f",
      "metadata": {
        "colab": {
          "base_uri": "https://localhost:8080/"
        },
        "id": "1a54621f",
        "outputId": "e6cd2203-10e5-4937-ce0c-96a3a1b6e994"
      },
      "outputs": [
        {
          "output_type": "execute_result",
          "data": {
            "text/plain": [
              "Negative    20019\n",
              "Positive    19981\n",
              "Name: label, dtype: int64"
            ]
          },
          "metadata": {},
          "execution_count": 29
        }
      ],
      "source": [
        "ytrain.value_counts()"
      ]
    },
    {
      "cell_type": "markdown",
      "id": "12ab620f",
      "metadata": {
        "id": "12ab620f"
      },
      "source": [
        "## Step 3: Selecting Machine Learning Models"
      ]
    },
    {
      "cell_type": "code",
      "execution_count": 30,
      "id": "66fa5b48",
      "metadata": {
        "id": "66fa5b48"
      },
      "outputs": [],
      "source": [
        "from sklearn.linear_model import LogisticRegression\n",
        "from sklearn.neighbors import KNeighborsClassifier\n",
        "from sklearn.svm import SVC\n",
        "from sklearn.tree import DecisionTreeClassifier\n",
        "from sklearn.metrics import confusion_matrix\n",
        "from sklearn.naive_bayes import GaussianNB, MultinomialNB, BernoulliNB\n",
        "from sklearn.ensemble import RandomForestClassifier,AdaBoostClassifier \\\n",
        ",GradientBoostingClassifier,VotingClassifier,BaggingClassifier\n",
        "import xgboost\n",
        "from sklearn.metrics import classification_report\n",
        "from sklearn.preprocessing import LabelEncoder"
      ]
    },
    {
      "cell_type": "markdown",
      "id": "177cc375",
      "metadata": {
        "id": "177cc375"
      },
      "source": [
        "These are Python packages and modules used for building and evaluating different machine learning models:\n",
        "\n",
        "1. <b>LogisticRegression</b>: a linear model used for classification tasks.\n",
        "1. <b>DecisionTreeClassifier</b>: a tree-based model used for classification tasks that recursively partitions the data based on the feature that maximizes the information gain.\n",
        "1. <b>RandomForestClassifier</b>: an ensemble model that combines multiple decision trees to reduce overfitting and improve generalization.\n",
        "1. <b>VotingClassifier</b>: an ensemble model that combines multiple models by taking the majority vote of their predictions."
      ]
    },
    {
      "cell_type": "code",
      "execution_count": 31,
      "id": "6b321857",
      "metadata": {
        "id": "6b321857"
      },
      "outputs": [],
      "source": [
        "log = LogisticRegression()\n",
        "dtc = DecisionTreeClassifier()\n",
        "rfc = RandomForestClassifier()\n",
        "svm = SVC()\n",
        "gbc = GaussianNB()\n",
        "mbc = MultinomialNB()\n",
        "bnb = BernoulliNB()\n",
        "xgb = xgboost.XGBClassifier()"
      ]
    },
    {
      "cell_type": "markdown",
      "id": "2c18466c",
      "metadata": {
        "id": "2c18466c"
      },
      "source": [
        "## Step 4: Training the Models"
      ]
    },
    {
      "cell_type": "code",
      "execution_count": 32,
      "id": "49b2c885",
      "metadata": {
        "id": "49b2c885"
      },
      "outputs": [],
      "source": [
        "def mymodel(x):\n",
        "    for model in x:\n",
        "        print('model name:', model,'\\n')\n",
        "        model.fit(xtrain,ytrain)\n",
        "        ypred = model.predict(xtest)\n",
        "        print(classification_report(ytest,ypred))\n",
        "        print('Training Score:',model.score(xtrain,ytrain))\n",
        "        print('Testing Score:',model.score(xtest,ytest),'\\n')\n",
        "        print('*'*55,'\\n')"
      ]
    },
    {
      "cell_type": "markdown",
      "id": "f324db69",
      "metadata": {
        "id": "f324db69"
      },
      "source": [
        "*This is a function to train and evaluate multiple machine learning models on the training and testing data.*\n",
        "\n",
        "*The function takes a list of models as an input (x) and loops over each model, fitting the model to the training data, making predictions on the testing data, and printing the classification report, training score, and testing score for each model.*\n",
        "\n",
        "*The classification report provides a detailed evaluation of the performance of the model, including precision, recall, and F1-score, for each class (positive and negative).*\n",
        "\n",
        "*The training score and testing score provide an estimate of the accuracy of the model on the training and testing data, respectively.*\n",
        "\n",
        "*Overall, this function is a useful way to quickly compare the performance of multiple machine learning models on a given dataset.*"
      ]
    },
    {
      "cell_type": "code",
      "execution_count": 33,
      "id": "d7612975",
      "metadata": {
        "id": "d7612975"
      },
      "outputs": [],
      "source": [
        "models = [log,mbc,bnb,rfc]"
      ]
    },
    {
      "cell_type": "code",
      "execution_count": 34,
      "id": "82115cce",
      "metadata": {
        "scrolled": false,
        "colab": {
          "base_uri": "https://localhost:8080/"
        },
        "id": "82115cce",
        "outputId": "849ac794-bf41-4a40-e530-c5375dbc0ac1"
      },
      "outputs": [
        {
          "output_type": "stream",
          "name": "stdout",
          "text": [
            "model name: LogisticRegression() \n",
            "\n",
            "              precision    recall  f1-score   support\n",
            "\n",
            "    Negative       0.89      0.88      0.88      2495\n",
            "    Positive       0.88      0.89      0.89      2505\n",
            "\n",
            "    accuracy                           0.89      5000\n",
            "   macro avg       0.89      0.89      0.89      5000\n",
            "weighted avg       0.89      0.89      0.89      5000\n",
            "\n",
            "Training Score: 0.985725\n",
            "Testing Score: 0.8854 \n",
            "\n",
            "******************************************************* \n",
            "\n",
            "model name: MultinomialNB() \n",
            "\n",
            "              precision    recall  f1-score   support\n",
            "\n",
            "    Negative       0.85      0.88      0.87      2495\n",
            "    Positive       0.88      0.85      0.86      2505\n",
            "\n",
            "    accuracy                           0.86      5000\n",
            "   macro avg       0.86      0.86      0.86      5000\n",
            "weighted avg       0.86      0.86      0.86      5000\n",
            "\n",
            "Training Score: 0.8999\n",
            "Testing Score: 0.8634 \n",
            "\n",
            "******************************************************* \n",
            "\n",
            "model name: BernoulliNB() \n",
            "\n",
            "              precision    recall  f1-score   support\n",
            "\n",
            "    Negative       0.84      0.88      0.86      2495\n",
            "    Positive       0.88      0.83      0.85      2505\n",
            "\n",
            "    accuracy                           0.85      5000\n",
            "   macro avg       0.86      0.85      0.85      5000\n",
            "weighted avg       0.86      0.85      0.85      5000\n",
            "\n",
            "Training Score: 0.8942\n",
            "Testing Score: 0.8544 \n",
            "\n",
            "******************************************************* \n",
            "\n",
            "model name: RandomForestClassifier() \n",
            "\n",
            "              precision    recall  f1-score   support\n",
            "\n",
            "    Negative       0.87      0.85      0.86      2495\n",
            "    Positive       0.86      0.87      0.86      2505\n",
            "\n",
            "    accuracy                           0.86      5000\n",
            "   macro avg       0.86      0.86      0.86      5000\n",
            "weighted avg       0.86      0.86      0.86      5000\n",
            "\n",
            "Training Score: 1.0\n",
            "Testing Score: 0.8616 \n",
            "\n",
            "******************************************************* \n",
            "\n"
          ]
        }
      ],
      "source": [
        "mymodel(models)"
      ]
    },
    {
      "cell_type": "markdown",
      "id": "b59dc13c",
      "metadata": {
        "id": "b59dc13c"
      },
      "source": [
        "Based on the evaluation metrics provided, the best model appears to be the Logistic Regression model, with an accuracy of 0.89 and high precision, recall, and f1-score for both positive and negative classes. Additionally, the training score is quite high at 0.9768, indicating that the model is fitting the training data well without overfitting."
      ]
    },
    {
      "cell_type": "markdown",
      "id": "37fa8109",
      "metadata": {
        "id": "37fa8109"
      },
      "source": [
        "## Step 5: Hyperparameter tuning ML models"
      ]
    },
    {
      "cell_type": "markdown",
      "id": "df039ea4",
      "metadata": {
        "id": "df039ea4"
      },
      "source": [
        "## Logistic Regression"
      ]
    },
    {
      "cell_type": "code",
      "execution_count": 35,
      "id": "14846940",
      "metadata": {
        "scrolled": false,
        "colab": {
          "base_uri": "https://localhost:8080/"
        },
        "id": "14846940",
        "outputId": "d083201f-a5be-49ea-b9a0-a17ef26a2919"
      },
      "outputs": [
        {
          "output_type": "stream",
          "name": "stdout",
          "text": [
            "Solver Name: lbfgs \n",
            "\n",
            "              precision    recall  f1-score   support\n",
            "\n",
            "    Negative       0.89      0.88      0.88      2495\n",
            "    Positive       0.88      0.89      0.89      2505\n",
            "\n",
            "    accuracy                           0.89      5000\n",
            "   macro avg       0.89      0.89      0.89      5000\n",
            "weighted avg       0.89      0.89      0.89      5000\n",
            "\n",
            "Training Score: 0.985725\n",
            "Testing Score: 0.8854 \n",
            "\n",
            "******************************************************* \n",
            "\n",
            "Solver Name: newton-cg \n",
            "\n",
            "              precision    recall  f1-score   support\n",
            "\n",
            "    Negative       0.89      0.88      0.89      2495\n",
            "    Positive       0.88      0.90      0.89      2505\n",
            "\n",
            "    accuracy                           0.89      5000\n",
            "   macro avg       0.89      0.89      0.89      5000\n",
            "weighted avg       0.89      0.89      0.89      5000\n",
            "\n",
            "Training Score: 0.9942\n",
            "Testing Score: 0.8886 \n",
            "\n",
            "******************************************************* \n",
            "\n",
            "Solver Name: liblinear \n",
            "\n",
            "              precision    recall  f1-score   support\n",
            "\n",
            "    Negative       0.89      0.88      0.89      2495\n",
            "    Positive       0.88      0.90      0.89      2505\n",
            "\n",
            "    accuracy                           0.89      5000\n",
            "   macro avg       0.89      0.89      0.89      5000\n",
            "weighted avg       0.89      0.89      0.89      5000\n",
            "\n",
            "Training Score: 0.9942\n",
            "Testing Score: 0.8888 \n",
            "\n",
            "******************************************************* \n",
            "\n",
            "Solver Name: sag \n",
            "\n",
            "              precision    recall  f1-score   support\n",
            "\n",
            "    Negative       0.89      0.88      0.88      2495\n",
            "    Positive       0.88      0.89      0.89      2505\n",
            "\n",
            "    accuracy                           0.89      5000\n",
            "   macro avg       0.89      0.89      0.89      5000\n",
            "weighted avg       0.89      0.89      0.89      5000\n",
            "\n",
            "Training Score: 0.92425\n",
            "Testing Score: 0.8858 \n",
            "\n",
            "******************************************************* \n",
            "\n",
            "Solver Name: saga \n",
            "\n",
            "              precision    recall  f1-score   support\n",
            "\n",
            "    Negative       0.89      0.88      0.88      2495\n",
            "    Positive       0.88      0.89      0.88      2505\n",
            "\n",
            "    accuracy                           0.88      5000\n",
            "   macro avg       0.88      0.88      0.88      5000\n",
            "weighted avg       0.88      0.88      0.88      5000\n",
            "\n",
            "Training Score: 0.910275\n",
            "Testing Score: 0.8838 \n",
            "\n",
            "******************************************************* \n",
            "\n"
          ]
        }
      ],
      "source": [
        "def log_tuning():\n",
        "  solvers = ['lbfgs','newton-cg', 'liblinear', 'sag', 'saga']\n",
        "\n",
        "  for solver in solvers:\n",
        "      print('Solver Name:',solver,'\\n')\n",
        "      log = LogisticRegression(solver=solver)\n",
        "      log.fit(xtrain, ytrain)\n",
        "      ypred = log.predict(xtest)\n",
        "\n",
        "      print(classification_report(ytest,ypred))\n",
        "      print('Training Score:',log.score(xtrain,ytrain))\n",
        "      print('Testing Score:',log.score(xtest,ytest),'\\n')\n",
        "      print('*'*55,'\\n')\n",
        "\n",
        "log_tuning()"
      ]
    },
    {
      "cell_type": "markdown",
      "source": [
        "# Bagging "
      ],
      "metadata": {
        "id": "Bl_LRLaWLtaX"
      },
      "id": "Bl_LRLaWLtaX"
    },
    {
      "cell_type": "code",
      "execution_count": 36,
      "id": "5558777d",
      "metadata": {
        "colab": {
          "base_uri": "https://localhost:8080/",
          "height": 0
        },
        "id": "5558777d",
        "outputId": "2fa08de9-c36a-47c3-d459-e0eeb959ba45"
      },
      "outputs": [
        {
          "output_type": "stream",
          "name": "stdout",
          "text": [
            "              precision    recall  f1-score   support\n",
            "\n",
            "    Negative       0.90      0.89      0.89      2495\n",
            "    Positive       0.89      0.90      0.89      2505\n",
            "\n",
            "    accuracy                           0.89      5000\n",
            "   macro avg       0.89      0.89      0.89      5000\n",
            "weighted avg       0.89      0.89      0.89      5000\n",
            "\n",
            "Training Score: 0.975025\n",
            "Testing Score: 0.8914 \n",
            "\n"
          ]
        },
        {
          "output_type": "execute_result",
          "data": {
            "text/plain": [
              "BaggingClassifier(estimator=LogisticRegression())"
            ],
            "text/html": [
              "<style>#sk-container-id-1 {color: black;background-color: white;}#sk-container-id-1 pre{padding: 0;}#sk-container-id-1 div.sk-toggleable {background-color: white;}#sk-container-id-1 label.sk-toggleable__label {cursor: pointer;display: block;width: 100%;margin-bottom: 0;padding: 0.3em;box-sizing: border-box;text-align: center;}#sk-container-id-1 label.sk-toggleable__label-arrow:before {content: \"▸\";float: left;margin-right: 0.25em;color: #696969;}#sk-container-id-1 label.sk-toggleable__label-arrow:hover:before {color: black;}#sk-container-id-1 div.sk-estimator:hover label.sk-toggleable__label-arrow:before {color: black;}#sk-container-id-1 div.sk-toggleable__content {max-height: 0;max-width: 0;overflow: hidden;text-align: left;background-color: #f0f8ff;}#sk-container-id-1 div.sk-toggleable__content pre {margin: 0.2em;color: black;border-radius: 0.25em;background-color: #f0f8ff;}#sk-container-id-1 input.sk-toggleable__control:checked~div.sk-toggleable__content {max-height: 200px;max-width: 100%;overflow: auto;}#sk-container-id-1 input.sk-toggleable__control:checked~label.sk-toggleable__label-arrow:before {content: \"▾\";}#sk-container-id-1 div.sk-estimator input.sk-toggleable__control:checked~label.sk-toggleable__label {background-color: #d4ebff;}#sk-container-id-1 div.sk-label input.sk-toggleable__control:checked~label.sk-toggleable__label {background-color: #d4ebff;}#sk-container-id-1 input.sk-hidden--visually {border: 0;clip: rect(1px 1px 1px 1px);clip: rect(1px, 1px, 1px, 1px);height: 1px;margin: -1px;overflow: hidden;padding: 0;position: absolute;width: 1px;}#sk-container-id-1 div.sk-estimator {font-family: monospace;background-color: #f0f8ff;border: 1px dotted black;border-radius: 0.25em;box-sizing: border-box;margin-bottom: 0.5em;}#sk-container-id-1 div.sk-estimator:hover {background-color: #d4ebff;}#sk-container-id-1 div.sk-parallel-item::after {content: \"\";width: 100%;border-bottom: 1px solid gray;flex-grow: 1;}#sk-container-id-1 div.sk-label:hover label.sk-toggleable__label {background-color: #d4ebff;}#sk-container-id-1 div.sk-serial::before {content: \"\";position: absolute;border-left: 1px solid gray;box-sizing: border-box;top: 0;bottom: 0;left: 50%;z-index: 0;}#sk-container-id-1 div.sk-serial {display: flex;flex-direction: column;align-items: center;background-color: white;padding-right: 0.2em;padding-left: 0.2em;position: relative;}#sk-container-id-1 div.sk-item {position: relative;z-index: 1;}#sk-container-id-1 div.sk-parallel {display: flex;align-items: stretch;justify-content: center;background-color: white;position: relative;}#sk-container-id-1 div.sk-item::before, #sk-container-id-1 div.sk-parallel-item::before {content: \"\";position: absolute;border-left: 1px solid gray;box-sizing: border-box;top: 0;bottom: 0;left: 50%;z-index: -1;}#sk-container-id-1 div.sk-parallel-item {display: flex;flex-direction: column;z-index: 1;position: relative;background-color: white;}#sk-container-id-1 div.sk-parallel-item:first-child::after {align-self: flex-end;width: 50%;}#sk-container-id-1 div.sk-parallel-item:last-child::after {align-self: flex-start;width: 50%;}#sk-container-id-1 div.sk-parallel-item:only-child::after {width: 0;}#sk-container-id-1 div.sk-dashed-wrapped {border: 1px dashed gray;margin: 0 0.4em 0.5em 0.4em;box-sizing: border-box;padding-bottom: 0.4em;background-color: white;}#sk-container-id-1 div.sk-label label {font-family: monospace;font-weight: bold;display: inline-block;line-height: 1.2em;}#sk-container-id-1 div.sk-label-container {text-align: center;}#sk-container-id-1 div.sk-container {/* jupyter's `normalize.less` sets `[hidden] { display: none; }` but bootstrap.min.css set `[hidden] { display: none !important; }` so we also need the `!important` here to be able to override the default hidden behavior on the sphinx rendered scikit-learn.org. See: https://github.com/scikit-learn/scikit-learn/issues/21755 */display: inline-block !important;position: relative;}#sk-container-id-1 div.sk-text-repr-fallback {display: none;}</style><div id=\"sk-container-id-1\" class=\"sk-top-container\"><div class=\"sk-text-repr-fallback\"><pre>BaggingClassifier(estimator=LogisticRegression())</pre><b>In a Jupyter environment, please rerun this cell to show the HTML representation or trust the notebook. <br />On GitHub, the HTML representation is unable to render, please try loading this page with nbviewer.org.</b></div><div class=\"sk-container\" hidden><div class=\"sk-item sk-dashed-wrapped\"><div class=\"sk-label-container\"><div class=\"sk-label sk-toggleable\"><input class=\"sk-toggleable__control sk-hidden--visually\" id=\"sk-estimator-id-1\" type=\"checkbox\" ><label for=\"sk-estimator-id-1\" class=\"sk-toggleable__label sk-toggleable__label-arrow\">BaggingClassifier</label><div class=\"sk-toggleable__content\"><pre>BaggingClassifier(estimator=LogisticRegression())</pre></div></div></div><div class=\"sk-parallel\"><div class=\"sk-parallel-item\"><div class=\"sk-item\"><div class=\"sk-label-container\"><div class=\"sk-label sk-toggleable\"><input class=\"sk-toggleable__control sk-hidden--visually\" id=\"sk-estimator-id-2\" type=\"checkbox\" ><label for=\"sk-estimator-id-2\" class=\"sk-toggleable__label sk-toggleable__label-arrow\">estimator: LogisticRegression</label><div class=\"sk-toggleable__content\"><pre>LogisticRegression()</pre></div></div></div><div class=\"sk-serial\"><div class=\"sk-item\"><div class=\"sk-estimator sk-toggleable\"><input class=\"sk-toggleable__control sk-hidden--visually\" id=\"sk-estimator-id-3\" type=\"checkbox\" ><label for=\"sk-estimator-id-3\" class=\"sk-toggleable__label sk-toggleable__label-arrow\">LogisticRegression</label><div class=\"sk-toggleable__content\"><pre>LogisticRegression()</pre></div></div></div></div></div></div></div></div></div></div>"
            ]
          },
          "metadata": {},
          "execution_count": 36
        }
      ],
      "source": [
        "def bagging(model):\n",
        "  bag = BaggingClassifier(model)\n",
        "\n",
        "  bag.fit(xtrain, ytrain)\n",
        "  ypred = bag.predict(xtest)\n",
        "\n",
        "  print(classification_report(ytest,ypred))\n",
        "  print('Training Score:',bag.score(xtrain,ytrain))\n",
        "  print('Testing Score:',bag.score(xtest,ytest),'\\n')\n",
        "  return bag\n",
        "\n",
        "bagging(log)"
      ]
    },
    {
      "cell_type": "markdown",
      "id": "5a5b5ef9",
      "metadata": {
        "id": "5a5b5ef9"
      },
      "source": [
        "In this code snippet, a BaggingClassifier is used to improve the performance of the Logistic Regression model. The BaggingClassifier fits multiple instances of the same model on different subsets of the training data and aggregates their predictions to improve the accuracy and reduce overfitting."
      ]
    },
    {
      "cell_type": "markdown",
      "id": "c1210cdc",
      "metadata": {
        "id": "c1210cdc"
      },
      "source": [
        "The evaluation metrics show the performance of the Logistic Regression model using different solvers. Overall, all solvers perform similarly, with an accuracy of 0.89 and high precision, recall, and f1-score for both positive and negative classes. However, the training scores and testing scores vary slightly among solvers, with the lbfgs and newton-cg solvers having the highest training scores, and the sag solver having the highest testing score. The saga solver has the lowest testing score. In general, the lbfgs, newton-cg, and sag solvers appear to perform better than the liblinear and saga solvers. So, selecting default logistic Regression solver as a best model."
      ]
    },
    {
      "cell_type": "markdown",
      "id": "1e02e850",
      "metadata": {
        "id": "1e02e850"
      },
      "source": [
        "## Random Forest"
      ]
    },
    {
      "cell_type": "code",
      "execution_count": 37,
      "id": "0b13ad82",
      "metadata": {
        "colab": {
          "base_uri": "https://localhost:8080/"
        },
        "id": "0b13ad82",
        "outputId": "abc06f00-450d-4d9d-9645-2bd693a2e757"
      },
      "outputs": [
        {
          "output_type": "stream",
          "name": "stdout",
          "text": [
            "              precision    recall  f1-score   support\n",
            "\n",
            "    Negative       0.88      0.85      0.87      2495\n",
            "    Positive       0.86      0.88      0.87      2505\n",
            "\n",
            "    accuracy                           0.87      5000\n",
            "   macro avg       0.87      0.87      0.87      5000\n",
            "weighted avg       0.87      0.87      0.87      5000\n",
            "\n",
            "Training Score: 1.0\n",
            "Testing Score: 0.8672 \n",
            "\n"
          ]
        }
      ],
      "source": [
        "rfc = RandomForestClassifier(min_samples_split=3, n_estimators=200)\n",
        "rfc.fit(xtrain, ytrain)\n",
        "ypred = rfc.predict(xtest)\n",
        "\n",
        "print(classification_report(ytest,ypred))\n",
        "print('Training Score:',rfc.score(xtrain,ytrain))\n",
        "print('Testing Score:',rfc.score(xtest,ytest),'\\n')"
      ]
    },
    {
      "cell_type": "markdown",
      "source": [
        "# Step 6: Evaluation"
      ],
      "metadata": {
        "id": "pEV6RJAYBl0B"
      },
      "id": "pEV6RJAYBl0B"
    },
    {
      "cell_type": "code",
      "source": [
        "texts = {'Do not buy worst deal ever.': 0, \n",
        "         'buy this.': 1, 'best deal': 1, \n",
        "         'baD product': 0, 'not bad but not good.': 0, \n",
        "         'delivery was fast': 1, \n",
        "         'damaged product not gonna buy again': 0}"
      ],
      "metadata": {
        "id": "OX49D503y37W"
      },
      "id": "OX49D503y37W",
      "execution_count": 38,
      "outputs": []
    },
    {
      "cell_type": "code",
      "source": [
        "for i,v in texts.items():\n",
        "  print(v)\n",
        "  if v==0:\n",
        "    texts[i] = 'Negative'\n",
        "  else:\n",
        "    texts[i] = 'Positive'"
      ],
      "metadata": {
        "colab": {
          "base_uri": "https://localhost:8080/"
        },
        "id": "qbAWnYVh7_Hi",
        "outputId": "41e6d9cb-8ac7-4a69-bb0f-89bcb303ccec"
      },
      "id": "qbAWnYVh7_Hi",
      "execution_count": 39,
      "outputs": [
        {
          "output_type": "stream",
          "name": "stdout",
          "text": [
            "0\n",
            "1\n",
            "1\n",
            "0\n",
            "0\n",
            "1\n",
            "0\n"
          ]
        }
      ]
    },
    {
      "cell_type": "code",
      "source": [
        "texts.values()"
      ],
      "metadata": {
        "colab": {
          "base_uri": "https://localhost:8080/"
        },
        "id": "HpBe37oa90iO",
        "outputId": "898259ed-7d1d-41ed-dd18-212c22a0f539"
      },
      "id": "HpBe37oa90iO",
      "execution_count": 40,
      "outputs": [
        {
          "output_type": "execute_result",
          "data": {
            "text/plain": [
              "dict_values(['Negative', 'Positive', 'Positive', 'Negative', 'Negative', 'Positive', 'Negative'])"
            ]
          },
          "metadata": {},
          "execution_count": 40
        }
      ]
    },
    {
      "cell_type": "code",
      "source": [
        "from sklearn.metrics import accuracy_score"
      ],
      "metadata": {
        "id": "RLK7mbx4-dIo"
      },
      "id": "RLK7mbx4-dIo",
      "execution_count": 41,
      "outputs": []
    },
    {
      "cell_type": "code",
      "execution_count": 42,
      "id": "7850d005",
      "metadata": {
        "id": "7850d005"
      },
      "outputs": [],
      "source": [
        "def get_sentiment(model, texts=texts):\n",
        "  pred = []\n",
        "  print('*'*45)\n",
        "  print('Mode Name:', type(model).__name__,'\\n')\n",
        "  print('*'*45, '\\n')\n",
        "  for text, idx in texts.items():\n",
        "    print(f\"Text: {text} \\nSentiment: {[i for i in model.predict(cv.transform([text]))][0]}\\n\")\n",
        "    pred.append([model.predict(cv.transform([text]))][0][0])\n",
        "  print('*'*45)\n",
        "  print('Accuracy:',accuracy_score(list(texts.values()), pred))\n",
        "  print('*'*45)"
      ]
    },
    {
      "cell_type": "code",
      "source": [
        "get_sentiment(rfc)"
      ],
      "metadata": {
        "colab": {
          "base_uri": "https://localhost:8080/"
        },
        "id": "oss34Xur0tnI",
        "outputId": "f31454bb-85eb-4fec-ae84-315a31d15871"
      },
      "id": "oss34Xur0tnI",
      "execution_count": 43,
      "outputs": [
        {
          "output_type": "stream",
          "name": "stdout",
          "text": [
            "*********************************************\n",
            "Mode Name: RandomForestClassifier \n",
            "\n",
            "********************************************* \n",
            "\n",
            "Text: Do not buy worst deal ever. \n",
            "Sentiment: Negative\n",
            "\n",
            "Text: buy this. \n",
            "Sentiment: Positive\n",
            "\n",
            "Text: best deal \n",
            "Sentiment: Positive\n",
            "\n",
            "Text: baD product \n",
            "Sentiment: Negative\n",
            "\n",
            "Text: not bad but not good. \n",
            "Sentiment: Negative\n",
            "\n",
            "Text: delivery was fast \n",
            "Sentiment: Positive\n",
            "\n",
            "Text: damaged product not gonna buy again \n",
            "Sentiment: Positive\n",
            "\n",
            "*********************************************\n",
            "Accuracy: 0.8571428571428571\n",
            "*********************************************\n"
          ]
        }
      ]
    },
    {
      "cell_type": "code",
      "source": [
        "get_sentiment(log)"
      ],
      "metadata": {
        "colab": {
          "base_uri": "https://localhost:8080/"
        },
        "id": "b1i6b6DJ3S_G",
        "outputId": "b360f8af-d4a8-49c6-f2d9-06810cff28bc"
      },
      "id": "b1i6b6DJ3S_G",
      "execution_count": 44,
      "outputs": [
        {
          "output_type": "stream",
          "name": "stdout",
          "text": [
            "*********************************************\n",
            "Mode Name: LogisticRegression \n",
            "\n",
            "********************************************* \n",
            "\n",
            "Text: Do not buy worst deal ever. \n",
            "Sentiment: Negative\n",
            "\n",
            "Text: buy this. \n",
            "Sentiment: Positive\n",
            "\n",
            "Text: best deal \n",
            "Sentiment: Positive\n",
            "\n",
            "Text: baD product \n",
            "Sentiment: Negative\n",
            "\n",
            "Text: not bad but not good. \n",
            "Sentiment: Negative\n",
            "\n",
            "Text: delivery was fast \n",
            "Sentiment: Negative\n",
            "\n",
            "Text: damaged product not gonna buy again \n",
            "Sentiment: Positive\n",
            "\n",
            "*********************************************\n",
            "Accuracy: 0.7142857142857143\n",
            "*********************************************\n"
          ]
        }
      ]
    },
    {
      "cell_type": "markdown",
      "source": [
        "# Step 7: Adding More Data"
      ],
      "metadata": {
        "id": "dF7NuhasBy5v"
      },
      "id": "dF7NuhasBy5v"
    },
    {
      "cell_type": "code",
      "source": [
        "add_train = pd.concat([mod_train, mod_valid, mod_test], axis=0)\n",
        "add_train.shape"
      ],
      "metadata": {
        "colab": {
          "base_uri": "https://localhost:8080/"
        },
        "id": "7woCVBfR5LnK",
        "outputId": "a8c3894c-9263-4ff1-da80-78161d534d71"
      },
      "id": "7woCVBfR5LnK",
      "execution_count": 45,
      "outputs": [
        {
          "output_type": "execute_result",
          "data": {
            "text/plain": [
              "(50000, 2)"
            ]
          },
          "metadata": {},
          "execution_count": 45
        }
      ]
    },
    {
      "cell_type": "code",
      "source": [
        "add_train.head()"
      ],
      "metadata": {
        "colab": {
          "base_uri": "https://localhost:8080/",
          "height": 0
        },
        "id": "tac7_W57CL0L",
        "outputId": "3b96a478-bcdc-493a-c3bd-70a90c28c172"
      },
      "id": "tac7_W57CL0L",
      "execution_count": 46,
      "outputs": [
        {
          "output_type": "execute_result",
          "data": {
            "text/plain": [
              "                                          clean_text     label\n",
              "0  grew b watching loving thunderbird mate school...  Negative\n",
              "1  put movie dvd player sat coke chip expectation...  Negative\n",
              "2  people know particular time past like feel nee...  Negative\n",
              "3  even though great interest biblical movie bore...  Negative\n",
              "4  im die hard dad army fan nothing ever change g...  Positive"
            ],
            "text/html": [
              "\n",
              "  <div id=\"df-09346dba-dd3b-4de0-ad9d-637ee5a6c440\">\n",
              "    <div class=\"colab-df-container\">\n",
              "      <div>\n",
              "<style scoped>\n",
              "    .dataframe tbody tr th:only-of-type {\n",
              "        vertical-align: middle;\n",
              "    }\n",
              "\n",
              "    .dataframe tbody tr th {\n",
              "        vertical-align: top;\n",
              "    }\n",
              "\n",
              "    .dataframe thead th {\n",
              "        text-align: right;\n",
              "    }\n",
              "</style>\n",
              "<table border=\"1\" class=\"dataframe\">\n",
              "  <thead>\n",
              "    <tr style=\"text-align: right;\">\n",
              "      <th></th>\n",
              "      <th>clean_text</th>\n",
              "      <th>label</th>\n",
              "    </tr>\n",
              "  </thead>\n",
              "  <tbody>\n",
              "    <tr>\n",
              "      <th>0</th>\n",
              "      <td>grew b watching loving thunderbird mate school...</td>\n",
              "      <td>Negative</td>\n",
              "    </tr>\n",
              "    <tr>\n",
              "      <th>1</th>\n",
              "      <td>put movie dvd player sat coke chip expectation...</td>\n",
              "      <td>Negative</td>\n",
              "    </tr>\n",
              "    <tr>\n",
              "      <th>2</th>\n",
              "      <td>people know particular time past like feel nee...</td>\n",
              "      <td>Negative</td>\n",
              "    </tr>\n",
              "    <tr>\n",
              "      <th>3</th>\n",
              "      <td>even though great interest biblical movie bore...</td>\n",
              "      <td>Negative</td>\n",
              "    </tr>\n",
              "    <tr>\n",
              "      <th>4</th>\n",
              "      <td>im die hard dad army fan nothing ever change g...</td>\n",
              "      <td>Positive</td>\n",
              "    </tr>\n",
              "  </tbody>\n",
              "</table>\n",
              "</div>\n",
              "      <button class=\"colab-df-convert\" onclick=\"convertToInteractive('df-09346dba-dd3b-4de0-ad9d-637ee5a6c440')\"\n",
              "              title=\"Convert this dataframe to an interactive table.\"\n",
              "              style=\"display:none;\">\n",
              "        \n",
              "  <svg xmlns=\"http://www.w3.org/2000/svg\" height=\"24px\"viewBox=\"0 0 24 24\"\n",
              "       width=\"24px\">\n",
              "    <path d=\"M0 0h24v24H0V0z\" fill=\"none\"/>\n",
              "    <path d=\"M18.56 5.44l.94 2.06.94-2.06 2.06-.94-2.06-.94-.94-2.06-.94 2.06-2.06.94zm-11 1L8.5 8.5l.94-2.06 2.06-.94-2.06-.94L8.5 2.5l-.94 2.06-2.06.94zm10 10l.94 2.06.94-2.06 2.06-.94-2.06-.94-.94-2.06-.94 2.06-2.06.94z\"/><path d=\"M17.41 7.96l-1.37-1.37c-.4-.4-.92-.59-1.43-.59-.52 0-1.04.2-1.43.59L10.3 9.45l-7.72 7.72c-.78.78-.78 2.05 0 2.83L4 21.41c.39.39.9.59 1.41.59.51 0 1.02-.2 1.41-.59l7.78-7.78 2.81-2.81c.8-.78.8-2.07 0-2.86zM5.41 20L4 18.59l7.72-7.72 1.47 1.35L5.41 20z\"/>\n",
              "  </svg>\n",
              "      </button>\n",
              "      \n",
              "  <style>\n",
              "    .colab-df-container {\n",
              "      display:flex;\n",
              "      flex-wrap:wrap;\n",
              "      gap: 12px;\n",
              "    }\n",
              "\n",
              "    .colab-df-convert {\n",
              "      background-color: #E8F0FE;\n",
              "      border: none;\n",
              "      border-radius: 50%;\n",
              "      cursor: pointer;\n",
              "      display: none;\n",
              "      fill: #1967D2;\n",
              "      height: 32px;\n",
              "      padding: 0 0 0 0;\n",
              "      width: 32px;\n",
              "    }\n",
              "\n",
              "    .colab-df-convert:hover {\n",
              "      background-color: #E2EBFA;\n",
              "      box-shadow: 0px 1px 2px rgba(60, 64, 67, 0.3), 0px 1px 3px 1px rgba(60, 64, 67, 0.15);\n",
              "      fill: #174EA6;\n",
              "    }\n",
              "\n",
              "    [theme=dark] .colab-df-convert {\n",
              "      background-color: #3B4455;\n",
              "      fill: #D2E3FC;\n",
              "    }\n",
              "\n",
              "    [theme=dark] .colab-df-convert:hover {\n",
              "      background-color: #434B5C;\n",
              "      box-shadow: 0px 1px 3px 1px rgba(0, 0, 0, 0.15);\n",
              "      filter: drop-shadow(0px 1px 2px rgba(0, 0, 0, 0.3));\n",
              "      fill: #FFFFFF;\n",
              "    }\n",
              "  </style>\n",
              "\n",
              "      <script>\n",
              "        const buttonEl =\n",
              "          document.querySelector('#df-09346dba-dd3b-4de0-ad9d-637ee5a6c440 button.colab-df-convert');\n",
              "        buttonEl.style.display =\n",
              "          google.colab.kernel.accessAllowed ? 'block' : 'none';\n",
              "\n",
              "        async function convertToInteractive(key) {\n",
              "          const element = document.querySelector('#df-09346dba-dd3b-4de0-ad9d-637ee5a6c440');\n",
              "          const dataTable =\n",
              "            await google.colab.kernel.invokeFunction('convertToInteractive',\n",
              "                                                     [key], {});\n",
              "          if (!dataTable) return;\n",
              "\n",
              "          const docLinkHtml = 'Like what you see? Visit the ' +\n",
              "            '<a target=\"_blank\" href=https://colab.research.google.com/notebooks/data_table.ipynb>data table notebook</a>'\n",
              "            + ' to learn more about interactive tables.';\n",
              "          element.innerHTML = '';\n",
              "          dataTable['output_type'] = 'display_data';\n",
              "          await google.colab.output.renderOutput(dataTable, element);\n",
              "          const docLink = document.createElement('div');\n",
              "          docLink.innerHTML = docLinkHtml;\n",
              "          element.appendChild(docLink);\n",
              "        }\n",
              "      </script>\n",
              "    </div>\n",
              "  </div>\n",
              "  "
            ]
          },
          "metadata": {},
          "execution_count": 46
        }
      ]
    },
    {
      "cell_type": "markdown",
      "source": [
        "# Step 8: Evaluation (Part 2)"
      ],
      "metadata": {
        "id": "Y9srHkBcH9DE"
      },
      "id": "Y9srHkBcH9DE"
    },
    {
      "cell_type": "code",
      "source": [
        "x, y = add_train.clean_text, add_train.label"
      ],
      "metadata": {
        "id": "9XBIM3EhCvhK"
      },
      "id": "9XBIM3EhCvhK",
      "execution_count": 47,
      "outputs": []
    },
    {
      "cell_type": "code",
      "source": [
        "from sklearn.model_selection import train_test_split"
      ],
      "metadata": {
        "id": "mZxrhw8ECkLP"
      },
      "id": "mZxrhw8ECkLP",
      "execution_count": 48,
      "outputs": []
    },
    {
      "cell_type": "code",
      "source": [
        "xtrain, xtest, ytrain, ytest = train_test_split(x, y, test_size=0.2, random_state=1)"
      ],
      "metadata": {
        "id": "QhbMQ_IOCOdI"
      },
      "id": "QhbMQ_IOCOdI",
      "execution_count": 49,
      "outputs": []
    },
    {
      "cell_type": "code",
      "source": [
        "# scores = []\n",
        "\n",
        "# for i in range(51):\n",
        "#   xtrain, xtest, ytrain, ytest = train_test_split(x, y, test_size=0.2, random_state=i)\n",
        "#   cv = TfidfVectorizer()\n",
        "#   xtrain = cv.fit_transform(xtrain)\n",
        "#   xtest = cv.transform(xtest)\n",
        "#   log = LogisticRegression()\n",
        "#   log.fit(xtrain, ytrain)\n",
        "#   ypred = log.predict(xtest)\n",
        "#   print('Random State', i)\n",
        "#   print(classification_report(ytest,ypred))\n",
        "#   print('Training Score:',log.score(xtrain,ytrain))\n",
        "#   print('Testing Score:',log.score(xtest,ytest),'\\n')\n",
        "#   print()\n",
        "#   scores.append((i, log.score(xtest,ytest)))"
      ],
      "metadata": {
        "id": "O0RUbq9tQV8s"
      },
      "id": "O0RUbq9tQV8s",
      "execution_count": 50,
      "outputs": []
    },
    {
      "cell_type": "code",
      "source": [
        "xtrain, xtest, ytrain, ytest = train_test_split(x, y, test_size=0.2, random_state=26)"
      ],
      "metadata": {
        "id": "I_RXWM4pQVZQ"
      },
      "id": "I_RXWM4pQVZQ",
      "execution_count": 51,
      "outputs": []
    },
    {
      "cell_type": "code",
      "source": [
        "cv = TfidfVectorizer()\n",
        "xtrain = cv.fit_transform(xtrain)\n",
        "xtest = cv.transform(xtest)"
      ],
      "metadata": {
        "id": "sTQl7_SsC6L2"
      },
      "id": "sTQl7_SsC6L2",
      "execution_count": 52,
      "outputs": []
    },
    {
      "cell_type": "code",
      "source": [
        "# cv = CountVectorizer()\n",
        "# xtrain = cv.fit_transform(xtrain)\n",
        "# xtest = cv.transform(xtest)"
      ],
      "metadata": {
        "id": "BFgMnsbEETs7"
      },
      "id": "BFgMnsbEETs7",
      "execution_count": 53,
      "outputs": []
    },
    {
      "cell_type": "code",
      "source": [
        "mymodel(models)"
      ],
      "metadata": {
        "colab": {
          "base_uri": "https://localhost:8080/"
        },
        "id": "iOYx9a7oDgSD",
        "outputId": "ce74a5a2-48d8-4b0b-acaa-e040952aad69"
      },
      "id": "iOYx9a7oDgSD",
      "execution_count": 54,
      "outputs": [
        {
          "output_type": "stream",
          "name": "stdout",
          "text": [
            "model name: LogisticRegression() \n",
            "\n",
            "              precision    recall  f1-score   support\n",
            "\n",
            "    Negative       0.91      0.89      0.90      4941\n",
            "    Positive       0.89      0.92      0.91      5059\n",
            "\n",
            "    accuracy                           0.90     10000\n",
            "   macro avg       0.90      0.90      0.90     10000\n",
            "weighted avg       0.90      0.90      0.90     10000\n",
            "\n",
            "Training Score: 0.931825\n",
            "Testing Score: 0.9027 \n",
            "\n",
            "******************************************************* \n",
            "\n",
            "model name: MultinomialNB() \n",
            "\n",
            "              precision    recall  f1-score   support\n",
            "\n",
            "    Negative       0.86      0.89      0.87      4941\n",
            "    Positive       0.89      0.85      0.87      5059\n",
            "\n",
            "    accuracy                           0.87     10000\n",
            "   macro avg       0.87      0.87      0.87     10000\n",
            "weighted avg       0.87      0.87      0.87     10000\n",
            "\n",
            "Training Score: 0.907175\n",
            "Testing Score: 0.8719 \n",
            "\n",
            "******************************************************* \n",
            "\n",
            "model name: BernoulliNB() \n",
            "\n",
            "              precision    recall  f1-score   support\n",
            "\n",
            "    Negative       0.84      0.89      0.87      4941\n",
            "    Positive       0.89      0.84      0.86      5059\n",
            "\n",
            "    accuracy                           0.86     10000\n",
            "   macro avg       0.86      0.86      0.86     10000\n",
            "weighted avg       0.87      0.86      0.86     10000\n",
            "\n",
            "Training Score: 0.898525\n",
            "Testing Score: 0.8639 \n",
            "\n",
            "******************************************************* \n",
            "\n",
            "model name: RandomForestClassifier() \n",
            "\n",
            "              precision    recall  f1-score   support\n",
            "\n",
            "    Negative       0.88      0.88      0.88      4941\n",
            "    Positive       0.88      0.88      0.88      5059\n",
            "\n",
            "    accuracy                           0.88     10000\n",
            "   macro avg       0.88      0.88      0.88     10000\n",
            "weighted avg       0.88      0.88      0.88     10000\n",
            "\n",
            "Training Score: 1.0\n",
            "Testing Score: 0.8792 \n",
            "\n",
            "******************************************************* \n",
            "\n"
          ]
        }
      ]
    },
    {
      "cell_type": "markdown",
      "source": [
        "# Logistic Regression"
      ],
      "metadata": {
        "id": "Vz_9Z7ovgbOy"
      },
      "id": "Vz_9Z7ovgbOy"
    },
    {
      "cell_type": "code",
      "source": [
        "log_tuning()"
      ],
      "metadata": {
        "colab": {
          "base_uri": "https://localhost:8080/"
        },
        "id": "rSguxFEbDrl3",
        "outputId": "c89a24af-ff22-42b2-a10f-2f779fd12d90"
      },
      "id": "rSguxFEbDrl3",
      "execution_count": 55,
      "outputs": [
        {
          "output_type": "stream",
          "name": "stdout",
          "text": [
            "Solver Name: lbfgs \n",
            "\n",
            "              precision    recall  f1-score   support\n",
            "\n",
            "    Negative       0.91      0.89      0.90      4941\n",
            "    Positive       0.89      0.92      0.91      5059\n",
            "\n",
            "    accuracy                           0.90     10000\n",
            "   macro avg       0.90      0.90      0.90     10000\n",
            "weighted avg       0.90      0.90      0.90     10000\n",
            "\n",
            "Training Score: 0.931825\n",
            "Testing Score: 0.9027 \n",
            "\n",
            "******************************************************* \n",
            "\n",
            "Solver Name: newton-cg \n",
            "\n",
            "              precision    recall  f1-score   support\n",
            "\n",
            "    Negative       0.91      0.89      0.90      4941\n",
            "    Positive       0.89      0.92      0.91      5059\n",
            "\n",
            "    accuracy                           0.90     10000\n",
            "   macro avg       0.90      0.90      0.90     10000\n",
            "weighted avg       0.90      0.90      0.90     10000\n",
            "\n",
            "Training Score: 0.9318\n",
            "Testing Score: 0.9028 \n",
            "\n",
            "******************************************************* \n",
            "\n",
            "Solver Name: liblinear \n",
            "\n",
            "              precision    recall  f1-score   support\n",
            "\n",
            "    Negative       0.91      0.89      0.90      4941\n",
            "    Positive       0.89      0.92      0.91      5059\n",
            "\n",
            "    accuracy                           0.90     10000\n",
            "   macro avg       0.90      0.90      0.90     10000\n",
            "weighted avg       0.90      0.90      0.90     10000\n",
            "\n",
            "Training Score: 0.9318\n",
            "Testing Score: 0.9027 \n",
            "\n",
            "******************************************************* \n",
            "\n",
            "Solver Name: sag \n",
            "\n",
            "              precision    recall  f1-score   support\n",
            "\n",
            "    Negative       0.91      0.89      0.90      4941\n",
            "    Positive       0.89      0.92      0.91      5059\n",
            "\n",
            "    accuracy                           0.90     10000\n",
            "   macro avg       0.90      0.90      0.90     10000\n",
            "weighted avg       0.90      0.90      0.90     10000\n",
            "\n",
            "Training Score: 0.9318\n",
            "Testing Score: 0.9028 \n",
            "\n",
            "******************************************************* \n",
            "\n",
            "Solver Name: saga \n",
            "\n",
            "              precision    recall  f1-score   support\n",
            "\n",
            "    Negative       0.91      0.89      0.90      4941\n",
            "    Positive       0.89      0.92      0.90      5059\n",
            "\n",
            "    accuracy                           0.90     10000\n",
            "   macro avg       0.90      0.90      0.90     10000\n",
            "weighted avg       0.90      0.90      0.90     10000\n",
            "\n",
            "Training Score: 0.931775\n",
            "Testing Score: 0.9026 \n",
            "\n",
            "******************************************************* \n",
            "\n"
          ]
        }
      ]
    },
    {
      "cell_type": "code",
      "source": [
        "log = LogisticRegression()\n",
        "log.fit(xtrain, ytrain)\n",
        "ypred = log.predict(xtest)\n",
        "\n",
        "print(classification_report(ytest,ypred))\n",
        "print('Training Score:',log.score(xtrain,ytrain))\n",
        "print('Testing Score:',log.score(xtest,ytest),'\\n')"
      ],
      "metadata": {
        "colab": {
          "base_uri": "https://localhost:8080/"
        },
        "id": "I1RGO1A8ggyt",
        "outputId": "15007d17-ffbf-439a-b57c-8537ada591b4"
      },
      "id": "I1RGO1A8ggyt",
      "execution_count": 56,
      "outputs": [
        {
          "output_type": "stream",
          "name": "stdout",
          "text": [
            "              precision    recall  f1-score   support\n",
            "\n",
            "    Negative       0.91      0.89      0.90      4941\n",
            "    Positive       0.89      0.92      0.91      5059\n",
            "\n",
            "    accuracy                           0.90     10000\n",
            "   macro avg       0.90      0.90      0.90     10000\n",
            "weighted avg       0.90      0.90      0.90     10000\n",
            "\n",
            "Training Score: 0.931825\n",
            "Testing Score: 0.9027 \n",
            "\n"
          ]
        }
      ]
    },
    {
      "cell_type": "markdown",
      "source": [
        "# Voting Classifier"
      ],
      "metadata": {
        "id": "pZD9ALzmJ-yg"
      },
      "id": "pZD9ALzmJ-yg"
    },
    {
      "cell_type": "code",
      "source": [
        "bag1 = bagging(log)"
      ],
      "metadata": {
        "colab": {
          "base_uri": "https://localhost:8080/"
        },
        "id": "AyUxzvakFqTZ",
        "outputId": "26dcdd1a-6638-4c8b-d9d3-31d9bc773840"
      },
      "id": "AyUxzvakFqTZ",
      "execution_count": 57,
      "outputs": [
        {
          "output_type": "stream",
          "name": "stdout",
          "text": [
            "              precision    recall  f1-score   support\n",
            "\n",
            "    Negative       0.91      0.88      0.90      4941\n",
            "    Positive       0.89      0.92      0.90      5059\n",
            "\n",
            "    accuracy                           0.90     10000\n",
            "   macro avg       0.90      0.90      0.90     10000\n",
            "weighted avg       0.90      0.90      0.90     10000\n",
            "\n",
            "Training Score: 0.928475\n",
            "Testing Score: 0.9018 \n",
            "\n"
          ]
        }
      ]
    },
    {
      "cell_type": "code",
      "source": [
        "bag2 = bagging(mbc)"
      ],
      "metadata": {
        "colab": {
          "base_uri": "https://localhost:8080/"
        },
        "id": "IUyZ0h1LFtQ9",
        "outputId": "50a2927d-ed7a-416a-c898-d6e642445b0f"
      },
      "id": "IUyZ0h1LFtQ9",
      "execution_count": 58,
      "outputs": [
        {
          "output_type": "stream",
          "name": "stdout",
          "text": [
            "              precision    recall  f1-score   support\n",
            "\n",
            "    Negative       0.86      0.89      0.87      4941\n",
            "    Positive       0.89      0.85      0.87      5059\n",
            "\n",
            "    accuracy                           0.87     10000\n",
            "   macro avg       0.87      0.87      0.87     10000\n",
            "weighted avg       0.87      0.87      0.87     10000\n",
            "\n",
            "Training Score: 0.905075\n",
            "Testing Score: 0.8711 \n",
            "\n"
          ]
        }
      ]
    },
    {
      "cell_type": "code",
      "source": [
        "bag3 = bagging(bnb)"
      ],
      "metadata": {
        "colab": {
          "base_uri": "https://localhost:8080/"
        },
        "id": "sepUXdDVHsmN",
        "outputId": "75ed15ac-b769-4acf-9be4-87951742b6e4"
      },
      "id": "sepUXdDVHsmN",
      "execution_count": 59,
      "outputs": [
        {
          "output_type": "stream",
          "name": "stdout",
          "text": [
            "              precision    recall  f1-score   support\n",
            "\n",
            "    Negative       0.84      0.89      0.86      4941\n",
            "    Positive       0.89      0.83      0.86      5059\n",
            "\n",
            "    accuracy                           0.86     10000\n",
            "   macro avg       0.86      0.86      0.86     10000\n",
            "weighted avg       0.86      0.86      0.86     10000\n",
            "\n",
            "Training Score: 0.894775\n",
            "Testing Score: 0.8618 \n",
            "\n"
          ]
        }
      ]
    },
    {
      "cell_type": "code",
      "source": [
        "estimators = [(type(m).__name__, m) for m in models[:-1]]\n",
        "voting = VotingClassifier(estimators=estimators)\n",
        "voting.fit(xtrain, ytrain)\n",
        "ypred = voting.predict(xtest)\n",
        "\n",
        "print(classification_report(ytest,ypred))\n",
        "print('Training Score:',voting.score(xtrain,ytrain))\n",
        "print('Testing Score:',voting.score(xtest,ytest),'\\n')"
      ],
      "metadata": {
        "colab": {
          "base_uri": "https://localhost:8080/"
        },
        "id": "Twp4z74EHtwe",
        "outputId": "f9a1b163-9d6f-4706-aafd-f469d0ec3a32"
      },
      "id": "Twp4z74EHtwe",
      "execution_count": 60,
      "outputs": [
        {
          "output_type": "stream",
          "name": "stdout",
          "text": [
            "              precision    recall  f1-score   support\n",
            "\n",
            "    Negative       0.87      0.90      0.88      4941\n",
            "    Positive       0.90      0.86      0.88      5059\n",
            "\n",
            "    accuracy                           0.88     10000\n",
            "   macro avg       0.88      0.88      0.88     10000\n",
            "weighted avg       0.88      0.88      0.88     10000\n",
            "\n",
            "Training Score: 0.9149\n",
            "Testing Score: 0.8806 \n",
            "\n"
          ]
        }
      ]
    },
    {
      "cell_type": "code",
      "source": [
        "bags = [bag1, bag2, bag3, rfc]"
      ],
      "metadata": {
        "id": "66-FFFT1J0Ae"
      },
      "id": "66-FFFT1J0Ae",
      "execution_count": 69,
      "outputs": []
    },
    {
      "cell_type": "code",
      "source": [
        "estimators = [(f'{type(m).__name__}{i}', m) for i,m in enumerate(bags)]\n",
        "voting = VotingClassifier(estimators=estimators)\n",
        "voting.fit(xtrain, ytrain)\n",
        "ypred = voting.predict(xtest)\n",
        "\n",
        "print(classification_report(ytest,ypred))\n",
        "print('Training Score:',voting.score(xtrain,ytrain))\n",
        "print('Testing Score:',voting.score(xtest,ytest),'\\n')"
      ],
      "metadata": {
        "colab": {
          "base_uri": "https://localhost:8080/"
        },
        "id": "Dn6lJ1-LKFG6",
        "outputId": "843bb71e-2c60-49ac-c49d-f5755931c0d5"
      },
      "id": "Dn6lJ1-LKFG6",
      "execution_count": 70,
      "outputs": [
        {
          "output_type": "stream",
          "name": "stdout",
          "text": [
            "              precision    recall  f1-score   support\n",
            "\n",
            "    Negative       0.86      0.92      0.89      4941\n",
            "    Positive       0.92      0.85      0.88      5059\n",
            "\n",
            "    accuracy                           0.89     10000\n",
            "   macro avg       0.89      0.89      0.89     10000\n",
            "weighted avg       0.89      0.89      0.89     10000\n",
            "\n",
            "Training Score: 0.928625\n",
            "Testing Score: 0.8859 \n",
            "\n"
          ]
        }
      ]
    },
    {
      "cell_type": "code",
      "source": [
        "get_sentiment(voting)"
      ],
      "metadata": {
        "colab": {
          "base_uri": "https://localhost:8080/"
        },
        "id": "1UcBSjHBUzrL",
        "outputId": "1a95c38b-815f-4913-ecbe-597651b45254"
      },
      "id": "1UcBSjHBUzrL",
      "execution_count": 72,
      "outputs": [
        {
          "output_type": "stream",
          "name": "stdout",
          "text": [
            "*********************************************\n",
            "Mode Name: VotingClassifier \n",
            "\n",
            "********************************************* \n",
            "\n",
            "Text: Do not buy worst deal ever. \n",
            "Sentiment: Negative\n",
            "\n",
            "Text: buy this. \n",
            "Sentiment: Positive\n",
            "\n",
            "Text: best deal \n",
            "Sentiment: Positive\n",
            "\n",
            "Text: baD product \n",
            "Sentiment: Negative\n",
            "\n",
            "Text: not bad but not good. \n",
            "Sentiment: Negative\n",
            "\n",
            "Text: delivery was fast \n",
            "Sentiment: Negative\n",
            "\n",
            "Text: damaged product not gonna buy again \n",
            "Sentiment: Positive\n",
            "\n",
            "*********************************************\n",
            "Accuracy: 0.7142857142857143\n",
            "*********************************************\n"
          ]
        }
      ]
    },
    {
      "cell_type": "code",
      "source": [
        "get_sentiment(bag1)"
      ],
      "metadata": {
        "colab": {
          "base_uri": "https://localhost:8080/"
        },
        "id": "q0QiDn9HU2HY",
        "outputId": "2ddd0545-1fa8-4cf1-f8a7-6d8d9349ba00"
      },
      "id": "q0QiDn9HU2HY",
      "execution_count": 73,
      "outputs": [
        {
          "output_type": "stream",
          "name": "stdout",
          "text": [
            "*********************************************\n",
            "Mode Name: BaggingClassifier \n",
            "\n",
            "********************************************* \n",
            "\n",
            "Text: Do not buy worst deal ever. \n",
            "Sentiment: Negative\n",
            "\n",
            "Text: buy this. \n",
            "Sentiment: Positive\n",
            "\n",
            "Text: best deal \n",
            "Sentiment: Positive\n",
            "\n",
            "Text: baD product \n",
            "Sentiment: Negative\n",
            "\n",
            "Text: not bad but not good. \n",
            "Sentiment: Negative\n",
            "\n",
            "Text: delivery was fast \n",
            "Sentiment: Positive\n",
            "\n",
            "Text: damaged product not gonna buy again \n",
            "Sentiment: Positive\n",
            "\n",
            "*********************************************\n",
            "Accuracy: 0.8571428571428571\n",
            "*********************************************\n"
          ]
        }
      ]
    },
    {
      "cell_type": "code",
      "source": [
        "get_sentiment(log)"
      ],
      "metadata": {
        "colab": {
          "base_uri": "https://localhost:8080/"
        },
        "id": "BcyPFINPeYSt",
        "outputId": "d168f849-3cbe-4cb4-8dd7-21008a8c2e66"
      },
      "id": "BcyPFINPeYSt",
      "execution_count": 74,
      "outputs": [
        {
          "output_type": "stream",
          "name": "stdout",
          "text": [
            "*********************************************\n",
            "Mode Name: LogisticRegression \n",
            "\n",
            "********************************************* \n",
            "\n",
            "Text: Do not buy worst deal ever. \n",
            "Sentiment: Negative\n",
            "\n",
            "Text: buy this. \n",
            "Sentiment: Positive\n",
            "\n",
            "Text: best deal \n",
            "Sentiment: Positive\n",
            "\n",
            "Text: baD product \n",
            "Sentiment: Negative\n",
            "\n",
            "Text: not bad but not good. \n",
            "Sentiment: Negative\n",
            "\n",
            "Text: delivery was fast \n",
            "Sentiment: Positive\n",
            "\n",
            "Text: damaged product not gonna buy again \n",
            "Sentiment: Positive\n",
            "\n",
            "*********************************************\n",
            "Accuracy: 0.8571428571428571\n",
            "*********************************************\n"
          ]
        }
      ]
    },
    {
      "cell_type": "code",
      "source": [],
      "metadata": {
        "id": "U-4ieW8ZgIhB"
      },
      "id": "U-4ieW8ZgIhB",
      "execution_count": 66,
      "outputs": []
    }
  ],
  "metadata": {
    "kernelspec": {
      "display_name": "Python 3",
      "name": "python3"
    },
    "language_info": {
      "codemirror_mode": {
        "name": "ipython",
        "version": 3
      },
      "file_extension": ".py",
      "mimetype": "text/x-python",
      "name": "python",
      "nbconvert_exporter": "python",
      "pygments_lexer": "ipython3",
      "version": "3.9.7"
    },
    "colab": {
      "provenance": [],
      "collapsed_sections": [
        "df039ea4",
        "1e02e850",
        "pEV6RJAYBl0B",
        "dF7NuhasBy5v"
      ],
      "gpuType": "T4"
    },
    "accelerator": "GPU"
  },
  "nbformat": 4,
  "nbformat_minor": 5
}