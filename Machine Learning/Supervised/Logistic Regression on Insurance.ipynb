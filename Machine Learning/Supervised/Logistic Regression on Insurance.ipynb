{
 "cells": [
  {
   "cell_type": "code",
   "execution_count": 1,
   "id": "31ace421",
   "metadata": {},
   "outputs": [],
   "source": [
    "import pandas as pd\n",
    "import numpy as np\n",
    "import matplotlib.pyplot as plt\n",
    "import warnings\n",
    "warnings.filterwarnings('ignore')"
   ]
  },
  {
   "cell_type": "code",
   "execution_count": 2,
   "id": "8966ffa4",
   "metadata": {},
   "outputs": [
    {
     "data": {
      "text/html": [
       "<div>\n",
       "<style scoped>\n",
       "    .dataframe tbody tr th:only-of-type {\n",
       "        vertical-align: middle;\n",
       "    }\n",
       "\n",
       "    .dataframe tbody tr th {\n",
       "        vertical-align: top;\n",
       "    }\n",
       "\n",
       "    .dataframe thead th {\n",
       "        text-align: right;\n",
       "    }\n",
       "</style>\n",
       "<table border=\"1\" class=\"dataframe\">\n",
       "  <thead>\n",
       "    <tr style=\"text-align: right;\">\n",
       "      <th></th>\n",
       "      <th>age</th>\n",
       "      <th>sex</th>\n",
       "      <th>bmi</th>\n",
       "      <th>children</th>\n",
       "      <th>smoker</th>\n",
       "      <th>region</th>\n",
       "      <th>charges</th>\n",
       "      <th>insuranceclaim</th>\n",
       "    </tr>\n",
       "  </thead>\n",
       "  <tbody>\n",
       "    <tr>\n",
       "      <th>0</th>\n",
       "      <td>19</td>\n",
       "      <td>0</td>\n",
       "      <td>27.900</td>\n",
       "      <td>0</td>\n",
       "      <td>1</td>\n",
       "      <td>3</td>\n",
       "      <td>16884.92400</td>\n",
       "      <td>1</td>\n",
       "    </tr>\n",
       "    <tr>\n",
       "      <th>1</th>\n",
       "      <td>18</td>\n",
       "      <td>1</td>\n",
       "      <td>33.770</td>\n",
       "      <td>1</td>\n",
       "      <td>0</td>\n",
       "      <td>2</td>\n",
       "      <td>1725.55230</td>\n",
       "      <td>1</td>\n",
       "    </tr>\n",
       "    <tr>\n",
       "      <th>2</th>\n",
       "      <td>28</td>\n",
       "      <td>1</td>\n",
       "      <td>33.000</td>\n",
       "      <td>3</td>\n",
       "      <td>0</td>\n",
       "      <td>2</td>\n",
       "      <td>4449.46200</td>\n",
       "      <td>0</td>\n",
       "    </tr>\n",
       "    <tr>\n",
       "      <th>3</th>\n",
       "      <td>33</td>\n",
       "      <td>1</td>\n",
       "      <td>22.705</td>\n",
       "      <td>0</td>\n",
       "      <td>0</td>\n",
       "      <td>1</td>\n",
       "      <td>21984.47061</td>\n",
       "      <td>0</td>\n",
       "    </tr>\n",
       "    <tr>\n",
       "      <th>4</th>\n",
       "      <td>32</td>\n",
       "      <td>1</td>\n",
       "      <td>28.880</td>\n",
       "      <td>0</td>\n",
       "      <td>0</td>\n",
       "      <td>1</td>\n",
       "      <td>3866.85520</td>\n",
       "      <td>1</td>\n",
       "    </tr>\n",
       "  </tbody>\n",
       "</table>\n",
       "</div>"
      ],
      "text/plain": [
       "   age  sex     bmi  children  smoker  region      charges  insuranceclaim\n",
       "0   19    0  27.900         0       1       3  16884.92400               1\n",
       "1   18    1  33.770         1       0       2   1725.55230               1\n",
       "2   28    1  33.000         3       0       2   4449.46200               0\n",
       "3   33    1  22.705         0       0       1  21984.47061               0\n",
       "4   32    1  28.880         0       0       1   3866.85520               1"
      ]
     },
     "execution_count": 2,
     "metadata": {},
     "output_type": "execute_result"
    }
   ],
   "source": [
    "df = pd.read_csv('insurance.csv')\n",
    "df.head()"
   ]
  },
  {
   "cell_type": "code",
   "execution_count": 3,
   "id": "e601ef82",
   "metadata": {},
   "outputs": [
    {
     "name": "stdout",
     "output_type": "stream",
     "text": [
      "<class 'pandas.core.frame.DataFrame'>\n",
      "RangeIndex: 1338 entries, 0 to 1337\n",
      "Data columns (total 8 columns):\n",
      " #   Column          Non-Null Count  Dtype  \n",
      "---  ------          --------------  -----  \n",
      " 0   age             1338 non-null   int64  \n",
      " 1   sex             1338 non-null   int64  \n",
      " 2   bmi             1338 non-null   float64\n",
      " 3   children        1338 non-null   int64  \n",
      " 4   smoker          1338 non-null   int64  \n",
      " 5   region          1338 non-null   int64  \n",
      " 6   charges         1338 non-null   float64\n",
      " 7   insuranceclaim  1338 non-null   int64  \n",
      "dtypes: float64(2), int64(6)\n",
      "memory usage: 83.8 KB\n"
     ]
    }
   ],
   "source": [
    "df.info()"
   ]
  },
  {
   "cell_type": "code",
   "execution_count": 4,
   "id": "ecdc201d",
   "metadata": {},
   "outputs": [
    {
     "data": {
      "text/plain": [
       "1    783\n",
       "0    555\n",
       "Name: insuranceclaim, dtype: int64"
      ]
     },
     "execution_count": 4,
     "metadata": {},
     "output_type": "execute_result"
    }
   ],
   "source": [
    "df.insuranceclaim.value_counts()"
   ]
  },
  {
   "cell_type": "code",
   "execution_count": 5,
   "id": "64ba85d9",
   "metadata": {},
   "outputs": [],
   "source": [
    "x = df.iloc[:,:-1]\n",
    "y = df.insuranceclaim"
   ]
  },
  {
   "cell_type": "code",
   "execution_count": 6,
   "id": "287e0802",
   "metadata": {},
   "outputs": [],
   "source": [
    "from sklearn.preprocessing import OneHotEncoder\n",
    "from sklearn.compose import ColumnTransformer"
   ]
  },
  {
   "cell_type": "code",
   "execution_count": 7,
   "id": "36f3854e",
   "metadata": {},
   "outputs": [],
   "source": [
    "ohe = OneHotEncoder(sparse=False)"
   ]
  },
  {
   "cell_type": "code",
   "execution_count": 8,
   "id": "c3cdacb8",
   "metadata": {},
   "outputs": [
    {
     "data": {
      "text/plain": [
       "array([1., 0., 0., 1., 0., 0., 0., 1.])"
      ]
     },
     "execution_count": 8,
     "metadata": {},
     "output_type": "execute_result"
    }
   ],
   "source": [
    "ohe.fit_transform(df[['sex','smoker','region']])[0]"
   ]
  },
  {
   "cell_type": "code",
   "execution_count": 9,
   "id": "a8fe4f6e",
   "metadata": {},
   "outputs": [],
   "source": [
    "ct = ColumnTransformer(transformers=[('encoder',OneHotEncoder(),\n",
    "                                      ['sex','smoker','region'])],\n",
    "                       remainder='passthrough')"
   ]
  },
  {
   "cell_type": "code",
   "execution_count": 10,
   "id": "10163ee8",
   "metadata": {},
   "outputs": [],
   "source": [
    "x = ct.fit_transform(x).astype('int64')"
   ]
  },
  {
   "cell_type": "code",
   "execution_count": 11,
   "id": "7a535866",
   "metadata": {},
   "outputs": [
    {
     "data": {
      "text/plain": [
       "array([    1,     0,     0,     1,     0,     0,     0,     1,    19,\n",
       "          27,     0, 16884])"
      ]
     },
     "execution_count": 11,
     "metadata": {},
     "output_type": "execute_result"
    }
   ],
   "source": [
    "x[0]"
   ]
  },
  {
   "cell_type": "code",
   "execution_count": 12,
   "id": "bede4ff3",
   "metadata": {},
   "outputs": [],
   "source": [
    "from sklearn.model_selection import train_test_split"
   ]
  },
  {
   "cell_type": "code",
   "execution_count": 13,
   "id": "402ab250",
   "metadata": {},
   "outputs": [],
   "source": [
    "xtrain,xtest,ytrain,ytest = train_test_split(x,y,test_size=0.2,random_state=2)"
   ]
  },
  {
   "cell_type": "code",
   "execution_count": 14,
   "id": "65ce3e1f",
   "metadata": {},
   "outputs": [],
   "source": [
    "from sklearn.preprocessing import StandardScaler\n",
    "sc=StandardScaler()\n",
    "xtrain=sc.fit_transform(xtrain)\n",
    "xtest=sc.transform(xtest)"
   ]
  },
  {
   "cell_type": "code",
   "execution_count": 15,
   "id": "3b2dad32",
   "metadata": {},
   "outputs": [],
   "source": [
    "from sklearn.linear_model import LogisticRegression"
   ]
  },
  {
   "cell_type": "code",
   "execution_count": 16,
   "id": "ab1843b8",
   "metadata": {},
   "outputs": [],
   "source": [
    "log = LogisticRegression()"
   ]
  },
  {
   "cell_type": "code",
   "execution_count": 17,
   "id": "36be80b0",
   "metadata": {},
   "outputs": [
    {
     "data": {
      "text/plain": [
       "LogisticRegression()"
      ]
     },
     "execution_count": 17,
     "metadata": {},
     "output_type": "execute_result"
    }
   ],
   "source": [
    "log.fit(xtrain,ytrain)"
   ]
  },
  {
   "cell_type": "code",
   "execution_count": 18,
   "id": "10790346",
   "metadata": {},
   "outputs": [
    {
     "data": {
      "text/plain": [
       "0.8805970149253731"
      ]
     },
     "execution_count": 18,
     "metadata": {},
     "output_type": "execute_result"
    }
   ],
   "source": [
    "log.score(xtest,ytest)"
   ]
  },
  {
   "cell_type": "code",
   "execution_count": 19,
   "id": "c8f30e5b",
   "metadata": {},
   "outputs": [
    {
     "data": {
      "text/plain": [
       "0.8943925233644859"
      ]
     },
     "execution_count": 19,
     "metadata": {},
     "output_type": "execute_result"
    }
   ],
   "source": [
    "log.score(xtrain,ytrain)"
   ]
  },
  {
   "cell_type": "code",
   "execution_count": 20,
   "id": "91fc1e67",
   "metadata": {},
   "outputs": [
    {
     "name": "stdout",
     "output_type": "stream",
     "text": [
      "random state:  9591\n",
      "\n",
      "\tTrain 0.9018691588785047\n",
      "\tTest 0.8921161825726142\n"
     ]
    }
   ],
   "source": [
    "for i in range(9500,10000):\n",
    "    xtrain,xtest,ytrain,ytest = train_test_split(x,y,test_size=0.36,random_state=i)\n",
    "    xtrain=sc.fit_transform(xtrain)\n",
    "    xtest=sc.transform(xtest)\n",
    "    log.fit(xtrain,ytrain)\n",
    "    if log.score(xtrain,ytrain) > 0.9 and log.score(xtest,ytest) > 0.89:\n",
    "        print('random state: ',i)\n",
    "        print('\\n\\tTrain',log.score(xtrain,ytrain))\n",
    "        print('\\tTest',log.score(xtest,ytest))"
   ]
  },
  {
   "cell_type": "code",
   "execution_count": 21,
   "id": "da4de0a0",
   "metadata": {},
   "outputs": [
    {
     "name": "stdout",
     "output_type": "stream",
     "text": [
      "Train 0.9018691588785047\n",
      "Test 0.8921161825726142\n"
     ]
    }
   ],
   "source": [
    "xtrain,xtest,ytrain,ytest = train_test_split(x,y,test_size=0.36,random_state=9591)\n",
    "xtrain=sc.fit_transform(xtrain)\n",
    "xtest=sc.transform(xtest)\n",
    "log2 = LogisticRegression()\n",
    "log2.fit(xtrain,ytrain)\n",
    "ypred = log2.predict(xtest)\n",
    "print('Train',log2.score(xtrain,ytrain))\n",
    "print('Test',log2.score(xtest,ytest))"
   ]
  },
  {
   "cell_type": "code",
   "execution_count": 22,
   "id": "3c9c49b1",
   "metadata": {},
   "outputs": [
    {
     "name": "stdout",
     "output_type": "stream",
     "text": [
      "Accuracy score:0.8921161825726142\n",
      "\n",
      "classfication report:\n",
      "\n",
      "              precision    recall  f1-score   support\n",
      "\n",
      "           0       0.85      0.88      0.87       191\n",
      "           1       0.92      0.90      0.91       291\n",
      "\n",
      "    accuracy                           0.89       482\n",
      "   macro avg       0.89      0.89      0.89       482\n",
      "weighted avg       0.89      0.89      0.89       482\n",
      "\n"
     ]
    }
   ],
   "source": [
    "from sklearn.metrics import accuracy_score,classification_report\n",
    "ac=accuracy_score(ytest,ypred)\n",
    "cr=classification_report(ytest,ypred)\n",
    "print(f\"Accuracy score:{ac}\\n\")\n",
    "print(f\"classfication report:\\n\")\n",
    "print(cr)"
   ]
  },
  {
   "cell_type": "markdown",
   "id": "356b462b",
   "metadata": {},
   "source": [
    "### Hyperparameter Tuning"
   ]
  },
  {
   "cell_type": "code",
   "execution_count": 23,
   "id": "3c525a5e",
   "metadata": {},
   "outputs": [],
   "source": [
    "solvers = ['liblinear', 'newton-cg', 'lbfgs', 'sag', 'saga']"
   ]
  },
  {
   "cell_type": "code",
   "execution_count": 24,
   "id": "979b8252",
   "metadata": {
    "scrolled": false
   },
   "outputs": [
    {
     "name": "stdout",
     "output_type": "stream",
     "text": [
      "\n",
      "******************************************************* \n",
      "\n",
      "For liblinear:\n",
      "\n",
      "Accuracy score:0.8900414937759336\n",
      "\n",
      "classfication report:\n",
      "\n",
      "              precision    recall  f1-score   support\n",
      "\n",
      "           0       0.84      0.88      0.86       191\n",
      "           1       0.92      0.89      0.91       291\n",
      "\n",
      "    accuracy                           0.89       482\n",
      "   macro avg       0.88      0.89      0.89       482\n",
      "weighted avg       0.89      0.89      0.89       482\n",
      "\n",
      "\n",
      "******************************************************* \n",
      "\n",
      "For newton-cg:\n",
      "\n",
      "Accuracy score:0.8921161825726142\n",
      "\n",
      "classfication report:\n",
      "\n",
      "              precision    recall  f1-score   support\n",
      "\n",
      "           0       0.85      0.88      0.87       191\n",
      "           1       0.92      0.90      0.91       291\n",
      "\n",
      "    accuracy                           0.89       482\n",
      "   macro avg       0.89      0.89      0.89       482\n",
      "weighted avg       0.89      0.89      0.89       482\n",
      "\n",
      "\n",
      "******************************************************* \n",
      "\n",
      "For lbfgs:\n",
      "\n",
      "Accuracy score:0.8921161825726142\n",
      "\n",
      "classfication report:\n",
      "\n",
      "              precision    recall  f1-score   support\n",
      "\n",
      "           0       0.85      0.88      0.87       191\n",
      "           1       0.92      0.90      0.91       291\n",
      "\n",
      "    accuracy                           0.89       482\n",
      "   macro avg       0.89      0.89      0.89       482\n",
      "weighted avg       0.89      0.89      0.89       482\n",
      "\n",
      "\n",
      "******************************************************* \n",
      "\n",
      "For sag:\n",
      "\n",
      "Accuracy score:0.8921161825726142\n",
      "\n",
      "classfication report:\n",
      "\n",
      "              precision    recall  f1-score   support\n",
      "\n",
      "           0       0.85      0.88      0.87       191\n",
      "           1       0.92      0.90      0.91       291\n",
      "\n",
      "    accuracy                           0.89       482\n",
      "   macro avg       0.89      0.89      0.89       482\n",
      "weighted avg       0.89      0.89      0.89       482\n",
      "\n",
      "\n",
      "******************************************************* \n",
      "\n",
      "For saga:\n",
      "\n",
      "Accuracy score:0.8921161825726142\n",
      "\n",
      "classfication report:\n",
      "\n",
      "              precision    recall  f1-score   support\n",
      "\n",
      "           0       0.85      0.88      0.87       191\n",
      "           1       0.92      0.90      0.91       291\n",
      "\n",
      "    accuracy                           0.89       482\n",
      "   macro avg       0.89      0.89      0.89       482\n",
      "weighted avg       0.89      0.89      0.89       482\n",
      "\n"
     ]
    }
   ],
   "source": [
    "for i in solvers:\n",
    "    log = LogisticRegression(solver=i)\n",
    "    log.fit(xtrain,ytrain)\n",
    "    ypred = log.predict(xtest)\n",
    "    ac=accuracy_score(ytest,ypred)\n",
    "    cr=classification_report(ytest,ypred)\n",
    "    print()\n",
    "    print('*'*55,'\\n')\n",
    "    print(f'For {i}:\\n')\n",
    "    print(f\"Accuracy score:{ac}\\n\")\n",
    "    print(f\"classfication report:\\n\")\n",
    "    print(cr)"
   ]
  },
  {
   "cell_type": "code",
   "execution_count": 25,
   "id": "91f847e2",
   "metadata": {},
   "outputs": [
    {
     "name": "stdout",
     "output_type": "stream",
     "text": [
      "Train 0.9018691588785047\n",
      "Test 0.8921161825726142\n"
     ]
    }
   ],
   "source": [
    "log3 = LogisticRegression(solver='saga')\n",
    "log3.fit(xtrain,ytrain)\n",
    "ypred = log3.predict(xtest)\n",
    "print('Train',log3.score(xtrain,ytrain))\n",
    "print('Test',log3.score(xtest,ytest))"
   ]
  },
  {
   "cell_type": "code",
   "execution_count": 26,
   "id": "b13c599a",
   "metadata": {},
   "outputs": [
    {
     "name": "stdout",
     "output_type": "stream",
     "text": [
      "Actual Values:    [0 1 1 1 1 0 1 1 0 0 1 1 1 1 1 1 0 0 0 1 0 1 0 0 0]\n",
      "Predicted Values: [0 1 1 1 1 0 1 1 0 0 1 1 0 1 1 1 0 1 0 1 1 1 0 0 0]\n"
     ]
    }
   ],
   "source": [
    "print(f'Actual Values:    {ytest[:25].values}')\n",
    "print(f'Predicted Values: {ypred[:25]}')"
   ]
  },
  {
   "cell_type": "code",
   "execution_count": 27,
   "id": "74cb818e",
   "metadata": {},
   "outputs": [],
   "source": [
    "from sklearn.metrics import confusion_matrix"
   ]
  },
  {
   "cell_type": "code",
   "execution_count": 28,
   "id": "20ccaebe",
   "metadata": {},
   "outputs": [],
   "source": [
    "cm = confusion_matrix(ytest,ypred)"
   ]
  },
  {
   "cell_type": "code",
   "execution_count": 29,
   "id": "3939055f",
   "metadata": {},
   "outputs": [
    {
     "data": {
      "text/plain": [
       "array([[169,  22],\n",
       "       [ 30, 261]])"
      ]
     },
     "execution_count": 29,
     "metadata": {},
     "output_type": "execute_result"
    }
   ],
   "source": [
    "cm"
   ]
  },
  {
   "cell_type": "code",
   "execution_count": 30,
   "id": "ac0b27d4",
   "metadata": {},
   "outputs": [
    {
     "name": "stdout",
     "output_type": "stream",
     "text": [
      "TP = 169\n",
      "TN = 261\n",
      "FP = 22\n",
      "FN = 30\n"
     ]
    }
   ],
   "source": [
    "print(f\"\"\"TP = {cm[0][0]}\n",
    "TN = {cm[1][1]}\n",
    "FP = {cm[0][1]}\n",
    "FN = {cm[1][0]}\"\"\")"
   ]
  },
  {
   "cell_type": "code",
   "execution_count": 31,
   "id": "af1aafed",
   "metadata": {},
   "outputs": [],
   "source": [
    "ypredprob = log3.predict_proba(xtest)[:,1]"
   ]
  },
  {
   "cell_type": "markdown",
   "id": "dd5bdc7a",
   "metadata": {},
   "source": [
    "### Changing the threshold using binarize"
   ]
  },
  {
   "cell_type": "code",
   "execution_count": 32,
   "id": "8931b1b5",
   "metadata": {},
   "outputs": [],
   "source": [
    "from sklearn.preprocessing import binarize"
   ]
  },
  {
   "cell_type": "code",
   "execution_count": 33,
   "id": "872dd9f4",
   "metadata": {},
   "outputs": [],
   "source": [
    "ypred = binarize([ypredprob],threshold=0.3)[0].astype('int64')"
   ]
  },
  {
   "cell_type": "code",
   "execution_count": 34,
   "id": "6da98614",
   "metadata": {},
   "outputs": [
    {
     "name": "stdout",
     "output_type": "stream",
     "text": [
      "Actual Values:    [0 1 1 1 1 0 1 1 0 0 1 1 1 1 1 1 0 0 0 1 0 1 0 0 0]\n",
      "Predicted Values: [0 1 1 1 1 1 1 1 0 0 1 1 0 1 1 1 0 1 0 1 1 1 0 0 1]\n"
     ]
    }
   ],
   "source": [
    "print(f'Actual Values:    {ytest[:25].values}')\n",
    "print(f'Predicted Values: {ypred[:25]}')"
   ]
  },
  {
   "cell_type": "code",
   "execution_count": 35,
   "id": "fb3bfe89",
   "metadata": {},
   "outputs": [
    {
     "name": "stdout",
     "output_type": "stream",
     "text": [
      "TP = 117\n",
      "TN = 266\n",
      "FP = 74\n",
      "FN = 25\n"
     ]
    }
   ],
   "source": [
    "cm = confusion_matrix(ytest,ypred)\n",
    "print(f\"\"\"TP = {cm[0][0]}\n",
    "TN = {cm[1][1]}\n",
    "FP = {cm[0][1]}\n",
    "FN = {cm[1][0]}\"\"\")"
   ]
  },
  {
   "cell_type": "markdown",
   "id": "1d0e7812",
   "metadata": {},
   "source": [
    "### Again, changing the threshold using binarize"
   ]
  },
  {
   "cell_type": "code",
   "execution_count": 36,
   "id": "da265696",
   "metadata": {},
   "outputs": [],
   "source": [
    "ypred = binarize([ypredprob],threshold=2.72116228e-04)[0].astype('int64')"
   ]
  },
  {
   "cell_type": "code",
   "execution_count": 37,
   "id": "e0468935",
   "metadata": {},
   "outputs": [
    {
     "name": "stdout",
     "output_type": "stream",
     "text": [
      "Actual Values:    [0 1 1 1 1 0 1 1 0 0 1 1 1 1 1 1 0 0 0 1 0 1 0 0 0]\n",
      "Predicted Values: [1 1 1 1 1 1 1 1 1 1 1 1 1 1 1 1 1 1 1 1 1 1 1 1 1]\n"
     ]
    }
   ],
   "source": [
    "print(f'Actual Values:    {ytest[:25].values}')\n",
    "print(f'Predicted Values: {ypred[:25]}')"
   ]
  },
  {
   "cell_type": "code",
   "execution_count": 38,
   "id": "08e0eb47",
   "metadata": {},
   "outputs": [
    {
     "name": "stdout",
     "output_type": "stream",
     "text": [
      "TP = 0\n",
      "TN = 291\n",
      "FP = 191\n",
      "FN = 0\n"
     ]
    }
   ],
   "source": [
    "cm = confusion_matrix(ytest,ypred)\n",
    "print(f\"\"\"TP = {cm[0][0]}\n",
    "TN = {cm[1][1]}\n",
    "FP = {cm[0][1]}\n",
    "FN = {cm[1][0]}\"\"\")"
   ]
  },
  {
   "cell_type": "code",
   "execution_count": 39,
   "id": "59a09a44",
   "metadata": {},
   "outputs": [],
   "source": [
    "from sklearn.metrics import roc_curve\n",
    "fpr,tpr,thres=roc_curve(ytest,ypredprob)"
   ]
  },
  {
   "cell_type": "code",
   "execution_count": 40,
   "id": "4ed89afe",
   "metadata": {},
   "outputs": [
    {
     "data": {
      "text/plain": [
       "array([1.99997499e+00, 9.99974988e-01, 9.64745721e-01, 9.63060795e-01,\n",
       "       9.17010062e-01, 9.15020711e-01, 9.03668945e-01, 9.00787353e-01,\n",
       "       8.89864010e-01, 8.86837380e-01, 8.52130977e-01, 8.50665934e-01,\n",
       "       7.96990385e-01, 7.95368749e-01, 7.67771338e-01, 7.67267979e-01,\n",
       "       7.47563380e-01, 7.40972294e-01, 7.39049899e-01, 7.34242805e-01,\n",
       "       6.70334659e-01, 6.66161743e-01, 6.52332977e-01, 6.47660915e-01,\n",
       "       6.32344137e-01, 6.30473234e-01, 6.18274813e-01, 6.10203141e-01,\n",
       "       6.08018413e-01, 6.01949968e-01, 5.51341101e-01, 5.50708132e-01,\n",
       "       5.36928709e-01, 5.33307422e-01, 5.16452530e-01, 5.13294119e-01,\n",
       "       4.97986914e-01, 4.97646446e-01, 4.97521558e-01, 4.92860645e-01,\n",
       "       4.90259072e-01, 4.56939170e-01, 4.50828507e-01, 4.15058064e-01,\n",
       "       4.14025688e-01, 2.49884451e-01, 2.41206442e-01, 1.80911561e-01,\n",
       "       1.79156119e-01, 1.67539230e-01, 1.65215097e-01, 1.58189401e-01,\n",
       "       1.55048469e-01, 1.52210879e-01, 1.50234057e-01, 1.13894374e-01,\n",
       "       1.13303453e-01, 1.06074487e-01, 1.05375806e-01, 9.46363946e-02,\n",
       "       9.45455549e-02, 8.90671189e-02, 8.73920638e-02, 8.17213532e-02,\n",
       "       8.09453320e-02, 7.84681575e-02, 7.81039800e-02, 7.49583383e-02,\n",
       "       7.42369535e-02, 5.71376263e-02, 5.67409946e-02, 3.82527303e-02,\n",
       "       3.66947529e-02, 3.49476517e-02, 3.46938790e-02, 3.05796173e-02,\n",
       "       3.04032132e-02, 2.93063269e-02, 2.92824945e-02, 2.31337410e-02,\n",
       "       2.30918523e-02, 2.04114755e-02, 1.22297167e-02, 9.74237965e-03,\n",
       "       9.56037286e-03, 6.46142588e-03, 5.91055797e-03, 2.46276991e-03,\n",
       "       2.31596758e-03, 2.72263357e-04])"
      ]
     },
     "execution_count": 40,
     "metadata": {},
     "output_type": "execute_result"
    }
   ],
   "source": [
    "thres"
   ]
  },
  {
   "cell_type": "code",
   "execution_count": 41,
   "id": "57ef0a87",
   "metadata": {},
   "outputs": [
    {
     "data": {
      "image/png": "[encoded data removed]",
      "text/plain": [
       "<Figure size 640x480 with 1 Axes>"
      ]
     },
     "metadata": {},
     "output_type": "display_data"
    }
   ],
   "source": [
    "plt.title(\"ROC AOC Curve\")\n",
    "plt.plot(fpr,tpr)\n",
    "plt.xlabel('FPR')\n",
    "plt.ylabel('TPR')\n",
    "plt.grid()\n",
    "plt.show()"
   ]
  },
  {
   "cell_type": "code",
   "execution_count": 42,
   "id": "83d3f7fa",
   "metadata": {},
   "outputs": [
    {
     "name": "stdout",
     "output_type": "stream",
     "text": [
      "Train 0.9018691588785047\n",
      "Test 0.8921161825726142\n"
     ]
    }
   ],
   "source": [
    "log3 = LogisticRegression(solver='saga')\n",
    "log3.fit(xtrain,ytrain)\n",
    "ypred = log3.predict(xtest)\n",
    "print('Train',log3.score(xtrain,ytrain))\n",
    "print('Test',log3.score(xtest,ytest))"
   ]
  }
 ],
 "metadata": {
  "kernelspec": {
   "display_name": "Python 3 (ipykernel)",
   "language": "python",
   "name": "python3"
  },
  "language_info": {
   "codemirror_mode": {
    "name": "ipython",
    "version": 3
   },
   "file_extension": ".py",
   "mimetype": "text/x-python",
   "name": "python",
   "nbconvert_exporter": "python",
   "pygments_lexer": "ipython3",
   "version": "3.9.13"
  }
 },
 "nbformat": 4,
 "nbformat_minor": 5
}
