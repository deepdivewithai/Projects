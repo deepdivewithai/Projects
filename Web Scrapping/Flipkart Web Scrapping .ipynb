{
 "cells": [
  {
   "cell_type": "code",
   "execution_count": 1,
   "id": "1f4700fa",
   "metadata": {},
   "outputs": [],
   "source": [
    "# imported necessary libraries\n",
    "import requests\n",
    "from bs4 import BeautifulSoup\n",
    "import pandas as pd"
   ]
  },
  {
   "cell_type": "code",
   "execution_count": 2,
   "id": "77f28373",
   "metadata": {},
   "outputs": [],
   "source": [
    "# Got URL of the first page from flipkart website after searching for laptops.\n",
    "url = \"https://www.flipkart.com/search?q=laptop&sid=6bo%2Cb5g&as=on&as-show=on&otracker=AS_QueryStore_OrganicAutoSuggest_1_5_na_na_na&otracker1=AS_QueryStore_OrganicAutoSuggest_1_5_na_na_na&as-pos=1&as-type=RECENT&suggestionId=laptop%7CLaptops&requestId=35799fdd-6f00-413a-a0a9-2563f1d22d75&as-searchtext=lapto\""
   ]
  },
  {
   "cell_type": "code",
   "execution_count": 3,
   "id": "37400498",
   "metadata": {},
   "outputs": [
    {
     "data": {
      "text/plain": [
       "<Response [200]>"
      ]
     },
     "execution_count": 3,
     "metadata": {},
     "output_type": "execute_result"
    }
   ],
   "source": [
    "# Checked to see i can access this website.\n",
    "page = requests.get(url)\n",
    "page"
   ]
  },
  {
   "cell_type": "code",
   "execution_count": 4,
   "id": "4aeb4b57",
   "metadata": {},
   "outputs": [],
   "source": [
    "# Created a soup to get a HTML content.\n",
    "soup = BeautifulSoup(page.text)"
   ]
  },
  {
   "cell_type": "code",
   "execution_count": 5,
   "id": "83c5a8a6",
   "metadata": {},
   "outputs": [],
   "source": [
    "# Created a URL list to scrap upto 40 webpages of laptop section.\n",
    "url_list = []\n",
    "\n",
    "for i in range(41):\n",
    "    if i == 0:\n",
    "        url_list.append(url)\n",
    "    else:\n",
    "        url_list.append(url+'&page='+str(i))"
   ]
  },
  {
   "cell_type": "code",
   "execution_count": 6,
   "id": "82df9131",
   "metadata": {},
   "outputs": [],
   "source": [
    "# Created an empty lists.\n",
    "product_names = []\n",
    "product_prices = []\n",
    "product_ratings = []\n",
    "product_reviews = []"
   ]
  },
  {
   "cell_type": "code",
   "execution_count": 7,
   "id": "01ffaa1f",
   "metadata": {},
   "outputs": [],
   "source": [
    "# Looped through the URL list and added the relevant content to the empty lists created above\n",
    "# from the website.\n",
    "for url in url_list:\n",
    "    page = requests.get(url)\n",
    "    soup = BeautifulSoup(page.text)\n",
    "    \n",
    "    laptop_names = soup.find('div',class_=\"_1YokD2 _3Mn1Gg\").find_all('div',class_=\"_4rR01T\")\n",
    "    laptop_prices = soup.find('div',class_=\"_1YokD2 _3Mn1Gg\").find_all('div',class_=\"_3I9_wc _27UcVY\")\n",
    "    laptop_ratings = soup.find('div',class_=\"_1YokD2 _3Mn1Gg\").find_all('div',class_=\"_3LWZlK\")\n",
    "    laptop_reviews = soup.find('div',class_=\"_1YokD2 _3Mn1Gg\").find_all('span',class_=\"_2_R_DZ\")\n",
    "\n",
    "    for names,prices,ratings,reviews in zip(laptop_names,laptop_prices,laptop_ratings,laptop_reviews):\n",
    "        product_names.append(names.text)\n",
    "        product_prices.append(prices.text)\n",
    "        product_ratings.append(ratings.text)\n",
    "        product_reviews.append(reviews.text.split('&')[1].split('\\xa0')[1])"
   ]
  },
  {
   "cell_type": "code",
   "execution_count": 8,
   "id": "b62be7bf",
   "metadata": {},
   "outputs": [
    {
     "name": "stdout",
     "output_type": "stream",
     "text": [
      "Lenovo IdeaPad Slim 5 Core i7 12th Gen - (16 GB/512 GB SSD/Windows 11 Home) 82SF004XIN Laptop\n",
      "\n",
      "₹99,990\n",
      "\n",
      "5\n",
      "\n",
      "3 Reviews\n"
     ]
    }
   ],
   "source": [
    "# Checked to see if its working properly\n",
    "\n",
    "print(product_names[0])\n",
    "print()\n",
    "print(product_prices[0])\n",
    "print()\n",
    "print(product_ratings[0])\n",
    "print()\n",
    "print(product_reviews[0])"
   ]
  },
  {
   "cell_type": "code",
   "execution_count": 9,
   "id": "3b57a323",
   "metadata": {},
   "outputs": [
    {
     "name": "stdout",
     "output_type": "stream",
     "text": [
      "657\n",
      "657\n",
      "657\n",
      "657\n"
     ]
    }
   ],
   "source": [
    "# Checked to see any null values\n",
    "print(len(product_names))\n",
    "print(len(product_prices))\n",
    "print(len(product_ratings))\n",
    "print(len(product_reviews))"
   ]
  },
  {
   "cell_type": "code",
   "execution_count": 10,
   "id": "a4f4204b",
   "metadata": {},
   "outputs": [],
   "source": [
    "# Created a dictinary to stored data table like format\n",
    "data = {\n",
    "    'product_names': product_names,\n",
    "    'product_prices': product_prices,\n",
    "    'product_ratings': product_ratings,\n",
    "    'product_reviews': product_reviews,\n",
    "}"
   ]
  },
  {
   "cell_type": "code",
   "execution_count": 11,
   "id": "a93c7b26",
   "metadata": {},
   "outputs": [],
   "source": [
    "# Created a dataframe\n",
    "laptops = pd.DataFrame(data)"
   ]
  },
  {
   "cell_type": "code",
   "execution_count": 12,
   "id": "83d9f20e",
   "metadata": {},
   "outputs": [],
   "source": [
    "# Storing a data in csv format\n",
    "laptops.to_csv('Laptop.csv',index=False)"
   ]
  },
  {
   "cell_type": "code",
   "execution_count": 13,
   "id": "e7e07cc8",
   "metadata": {},
   "outputs": [
    {
     "data": {
      "text/html": [
       "<div>\n",
       "<style scoped>\n",
       "    .dataframe tbody tr th:only-of-type {\n",
       "        vertical-align: middle;\n",
       "    }\n",
       "\n",
       "    .dataframe tbody tr th {\n",
       "        vertical-align: top;\n",
       "    }\n",
       "\n",
       "    .dataframe thead th {\n",
       "        text-align: right;\n",
       "    }\n",
       "</style>\n",
       "<table border=\"1\" class=\"dataframe\">\n",
       "  <thead>\n",
       "    <tr style=\"text-align: right;\">\n",
       "      <th></th>\n",
       "      <th>product_names</th>\n",
       "      <th>product_prices</th>\n",
       "      <th>product_ratings</th>\n",
       "      <th>product_reviews</th>\n",
       "    </tr>\n",
       "  </thead>\n",
       "  <tbody>\n",
       "    <tr>\n",
       "      <th>0</th>\n",
       "      <td>Lenovo IdeaPad Slim 5 Core i7 12th Gen - (16 G...</td>\n",
       "      <td>₹99,990</td>\n",
       "      <td>5.0</td>\n",
       "      <td>3 Reviews</td>\n",
       "    </tr>\n",
       "    <tr>\n",
       "      <th>1</th>\n",
       "      <td>Lenovo Legion 5 Pro Core i7 11th Gen - (16 GB/...</td>\n",
       "      <td>₹2,24,490</td>\n",
       "      <td>4.6</td>\n",
       "      <td>4 Reviews</td>\n",
       "    </tr>\n",
       "    <tr>\n",
       "      <th>2</th>\n",
       "      <td>ASUS TUF Gaming F15 Core i5 10th Gen - (8 GB/5...</td>\n",
       "      <td>₹70,990</td>\n",
       "      <td>4.4</td>\n",
       "      <td>505 Reviews</td>\n",
       "    </tr>\n",
       "    <tr>\n",
       "      <th>3</th>\n",
       "      <td>ASUS VivoBook 14 (2021) Celeron Dual Core - (4...</td>\n",
       "      <td>₹33,990</td>\n",
       "      <td>4.1</td>\n",
       "      <td>112 Reviews</td>\n",
       "    </tr>\n",
       "    <tr>\n",
       "      <th>4</th>\n",
       "      <td>ASUS Vivobook 15 Core i3 11th Gen - (8 GB/512 ...</td>\n",
       "      <td>₹50,990</td>\n",
       "      <td>4.2</td>\n",
       "      <td>42 Reviews</td>\n",
       "    </tr>\n",
       "    <tr>\n",
       "      <th>...</th>\n",
       "      <td>...</td>\n",
       "      <td>...</td>\n",
       "      <td>...</td>\n",
       "      <td>...</td>\n",
       "    </tr>\n",
       "    <tr>\n",
       "      <th>652</th>\n",
       "      <td>Lenovo Ideapad 520 Core i5 8th Gen - (8 GB/2 T...</td>\n",
       "      <td>₹42,990</td>\n",
       "      <td>3.7</td>\n",
       "      <td>0 Reviews</td>\n",
       "    </tr>\n",
       "    <tr>\n",
       "      <th>653</th>\n",
       "      <td>ASUS VivoBook 15 Ryzen 3 Dual Core AMD R3-3250...</td>\n",
       "      <td>₹88,627</td>\n",
       "      <td>5.0</td>\n",
       "      <td>0 Reviews</td>\n",
       "    </tr>\n",
       "    <tr>\n",
       "      <th>654</th>\n",
       "      <td>DELL Inspiron Ryzen 5 Hexa Core 5500U - (8 GB/...</td>\n",
       "      <td>₹54,490</td>\n",
       "      <td>4.3</td>\n",
       "      <td>457 Reviews</td>\n",
       "    </tr>\n",
       "    <tr>\n",
       "      <th>655</th>\n",
       "      <td>Lenovo IdeaPad 1 Ryzen 3 Dual Core 3250U - (8 ...</td>\n",
       "      <td>₹73,000</td>\n",
       "      <td>4.5</td>\n",
       "      <td>3 Reviews</td>\n",
       "    </tr>\n",
       "    <tr>\n",
       "      <th>656</th>\n",
       "      <td>ASUS ExpertBook P2 Core i5 10th Gen - (8 GB/1 ...</td>\n",
       "      <td>₹3,50,990</td>\n",
       "      <td>4.3</td>\n",
       "      <td>1 Reviews</td>\n",
       "    </tr>\n",
       "  </tbody>\n",
       "</table>\n",
       "<p>657 rows × 4 columns</p>\n",
       "</div>"
      ],
      "text/plain": [
       "                                         product_names product_prices  \\\n",
       "0    Lenovo IdeaPad Slim 5 Core i7 12th Gen - (16 G...        ₹99,990   \n",
       "1    Lenovo Legion 5 Pro Core i7 11th Gen - (16 GB/...      ₹2,24,490   \n",
       "2    ASUS TUF Gaming F15 Core i5 10th Gen - (8 GB/5...        ₹70,990   \n",
       "3    ASUS VivoBook 14 (2021) Celeron Dual Core - (4...        ₹33,990   \n",
       "4    ASUS Vivobook 15 Core i3 11th Gen - (8 GB/512 ...        ₹50,990   \n",
       "..                                                 ...            ...   \n",
       "652  Lenovo Ideapad 520 Core i5 8th Gen - (8 GB/2 T...        ₹42,990   \n",
       "653  ASUS VivoBook 15 Ryzen 3 Dual Core AMD R3-3250...        ₹88,627   \n",
       "654  DELL Inspiron Ryzen 5 Hexa Core 5500U - (8 GB/...        ₹54,490   \n",
       "655  Lenovo IdeaPad 1 Ryzen 3 Dual Core 3250U - (8 ...        ₹73,000   \n",
       "656  ASUS ExpertBook P2 Core i5 10th Gen - (8 GB/1 ...      ₹3,50,990   \n",
       "\n",
       "     product_ratings product_reviews  \n",
       "0                5.0       3 Reviews  \n",
       "1                4.6       4 Reviews  \n",
       "2                4.4     505 Reviews  \n",
       "3                4.1     112 Reviews  \n",
       "4                4.2      42 Reviews  \n",
       "..               ...             ...  \n",
       "652              3.7       0 Reviews  \n",
       "653              5.0       0 Reviews  \n",
       "654              4.3     457 Reviews  \n",
       "655              4.5       3 Reviews  \n",
       "656              4.3       1 Reviews  \n",
       "\n",
       "[657 rows x 4 columns]"
      ]
     },
     "execution_count": 13,
     "metadata": {},
     "output_type": "execute_result"
    }
   ],
   "source": [
    "# Read and loaded the stored data.\n",
    "laptop_info = pd.read_csv('Laptop.csv')\n",
    "\n",
    "laptop_info"
   ]
  },
  {
   "cell_type": "code",
   "execution_count": null,
   "id": "eb60972b",
   "metadata": {},
   "outputs": [],
   "source": []
  },
  {
   "cell_type": "code",
   "execution_count": null,
   "id": "cbf484b8",
   "metadata": {},
   "outputs": [],
   "source": []
  }
 ],
 "metadata": {
  "kernelspec": {
   "display_name": "Python 3 (ipykernel)",
   "language": "python",
   "name": "python3"
  },
  "language_info": {
   "codemirror_mode": {
    "name": "ipython",
    "version": 3
   },
   "file_extension": ".py",
   "mimetype": "text/x-python",
   "name": "python",
   "nbconvert_exporter": "python",
   "pygments_lexer": "ipython3",
   "version": "3.9.13"
  }
 },
 "nbformat": 4,
 "nbformat_minor": 5
}
