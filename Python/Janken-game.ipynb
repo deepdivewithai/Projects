{
 "cells": [
  {
   "cell_type": "code",
   "execution_count": 1,
   "id": "a5517f35",
   "metadata": {
    "scrolled": false
   },
   "outputs": [
    {
     "name": "stdout",
     "output_type": "stream",
     "text": [
      "Welcome to our Rock, Paper and Scissors Game.\n",
      "Do you wanna play: y\n",
      "Choose between rock/paper/scissors to play and q to quit: r\n",
      "You picked rock.\n",
      "Computer picked scissors.\n",
      "You won!!!\n",
      "Choose between rock/paper/scissors to play and q to quit: p\n",
      "You picked paper.\n",
      "Computer picked rock.\n",
      "You won!!!\n",
      "Choose between rock/paper/scissors to play and q to quit: s\n",
      "You picked scissors.\n",
      "Computer picked paper.\n",
      "You won!!!\n",
      "Choose between rock/paper/scissors to play and q to quit: rock\n",
      "You picked rock.\n",
      "Computer picked scissors.\n",
      "You won!!!\n",
      "Choose between rock/paper/scissors to play and q to quit: paper\n",
      "You picked paper.\n",
      "Computer picked paper.\n",
      "Tied!!!\n",
      "Choose between rock/paper/scissors to play and q to quit: r\n",
      "You picked rock.\n",
      "Computer picked scissors.\n",
      "You won!!!\n",
      "Choose between rock/paper/scissors to play and q to quit: q\n",
      "You win 5 times.\n",
      "Computer win 0 times.\n",
      "Thanks for Playing!!!\n"
     ]
    }
   ],
   "source": [
    "import random\n",
    "\n",
    "def convert(user_input):\n",
    "    if user_input == 'r':\n",
    "        user_input = 'rock'\n",
    "        return user_input\n",
    "    elif user_input == 'p':\n",
    "        user_input = 'paper'\n",
    "        return user_input\n",
    "    elif user_input == 's':\n",
    "        user_input = 'scissors'\n",
    "        return user_input\n",
    "    return user_input\n",
    "\n",
    "user_wins = 0\n",
    "computer_wins = 0\n",
    "\n",
    "options = ['rock', 'paper', 'scissors']\n",
    "\n",
    "print(\"Welcome to our Rock, Paper and Scissors Game.\")\n",
    "\n",
    "play = input(\"Do you wanna play: \")\n",
    "\n",
    "while play.lower() in ('y','yes'):\n",
    "    \n",
    "    user_input = input('Choose between rock/paper/scissors to play and q to quit: ').lower()\n",
    "    \n",
    "    user_input = convert(user_input)\n",
    "    \n",
    "    if user_input == 'q':\n",
    "        break\n",
    "    \n",
    "    elif user_input not in options:\n",
    "        continue\n",
    "        \n",
    "    random_pick = random.randint(0,2)\n",
    "    computer_pick = options[random_pick]\n",
    "    print('You picked '+ str(user_input)+'.')\n",
    "    print('Computer picked '+ str(computer_pick) + '.')\n",
    "    if user_input == 'rock' and computer_pick == 'scissors':\n",
    "        print('You won!!!')\n",
    "        user_wins += 1\n",
    "                \n",
    "    elif user_input == 'paper' and computer_pick == 'rock':\n",
    "        print('You won!!!')\n",
    "        user_wins += 1\n",
    "            \n",
    "    elif user_input == 'scissors' and computer_pick == 'paper':\n",
    "        print('You won!!!')\n",
    "        user_wins += 1\n",
    "                \n",
    "    elif user_input == computer_pick:\n",
    "        print('Tied!!!')\n",
    "                \n",
    "    else:\n",
    "        print('Computer won!!!')\n",
    "        computer_wins += 1\n",
    "        \n",
    "print('You win '+ str(user_wins) + ' times.')\n",
    "print('Computer win '+ str(computer_wins) + ' times.')\n",
    "\n",
    "if play.lower() in ('yes', 'y'):\n",
    "    print('Thanks for Playing!!!')\n",
    "else:\n",
    "    print(\"Please try next time!!!\")"
   ]
  },
  {
   "cell_type": "code",
   "execution_count": 2,
   "id": "c7b808cd",
   "metadata": {},
   "outputs": [],
   "source": []
  },
  {
   "cell_type": "code",
   "execution_count": null,
   "id": "0cca5e72",
   "metadata": {},
   "outputs": [],
   "source": []
  },
  {
   "cell_type": "code",
   "execution_count": null,
   "id": "1a0c98c5",
   "metadata": {},
   "outputs": [],
   "source": []
  },
  {
   "cell_type": "code",
   "execution_count": null,
   "id": "93390f68",
   "metadata": {},
   "outputs": [],
   "source": []
  },
  {
   "cell_type": "code",
   "execution_count": null,
   "id": "3586b241",
   "metadata": {},
   "outputs": [],
   "source": []
  },
  {
   "cell_type": "code",
   "execution_count": null,
   "id": "7fbf9b06",
   "metadata": {},
   "outputs": [],
   "source": []
  },
  {
   "cell_type": "code",
   "execution_count": null,
   "id": "c0a29802",
   "metadata": {},
   "outputs": [],
   "source": []
  }
 ],
 "metadata": {
  "kernelspec": {
   "display_name": "Python 3 (ipykernel)",
   "language": "python",
   "name": "python3"
  },
  "language_info": {
   "codemirror_mode": {
    "name": "ipython",
    "version": 3
   },
   "file_extension": ".py",
   "mimetype": "text/x-python",
   "name": "python",
   "nbconvert_exporter": "python",
   "pygments_lexer": "ipython3",
   "version": "3.9.12"
  }
 },
 "nbformat": 4,
 "nbformat_minor": 5
}
